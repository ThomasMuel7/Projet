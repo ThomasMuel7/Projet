{
 "cells": [
  {
   "cell_type": "code",
   "execution_count": null,
   "id": "6bc1f11d",
   "metadata": {
    "vscode": {
     "languageId": "plaintext"
    }
   },
   "outputs": [],
   "source": [
    "import matplotlib.pyplot as plt"
   ]
  }
 ],
 "metadata": {
  "language_info": {
   "name": "python"
  }
 },
 "nbformat": 4,
 "nbformat_minor": 5
}
