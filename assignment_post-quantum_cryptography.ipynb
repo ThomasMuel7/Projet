{
 "cells": [
  {
   "cell_type": "code",
   "execution_count": 3,
   "id": "77d9c9e1-e0b9-4e34-80f0-832171f2f352",
   "metadata": {
    "vscode": {
     "languageId": "plaintext"
    }
   },
   "outputs": [],
   "source": [
    "import matplotlib.pyplot as plt"
   ]
  },
  {
   "cell_type": "markdown",
   "id": "e1c55b55-e8cf-4352-995d-78981e011785",
   "metadata": {},
   "source": [
    "# Post Quantum Cryptography"
   ]
  },
  {
   "cell_type": "markdown",
   "id": "44a74313-2e92-46ca-b963-a34f79a43496",
   "metadata": {},
   "source": [
    "## I) What is RSA ?"
   ]
  },
  {
   "cell_type": "markdown",
   "id": "c4dd3f79-5bde-433d-8ff6-ed45d0827dca",
   "metadata": {},
   "source": [
    "### Math Introduction (base of the algorithm -> Factorisation of prime numbers)"
   ]
  },
  {
   "cell_type": "markdown",
   "id": "2a9c5b00-3d49-4945-b201-d1ae8a1c6fb2",
   "metadata": {},
   "source": [
    "### Presentation of RSA (History)"
   ]
  },
  {
   "cell_type": "markdown",
   "id": "91f6b5b2-5699-446c-b802-b54009e80e3e",
   "metadata": {},
   "source": [
    "### Implementation of RSA (Algorithm)"
   ]
  },
  {
   "cell_type": "markdown",
   "id": "f73912b4-6fce-4eea-a6fb-b6b3fc10b099",
   "metadata": {},
   "source": [
    "## II) Can we crack RSA ?"
   ]
  },
  {
   "cell_type": "markdown",
   "id": "19f9083d-513a-4aa4-8751-e50168d51ebb",
   "metadata": {},
   "source": [
    "### Brute Force"
   ]
  },
  {
   "cell_type": "markdown",
   "id": "2ee6d653-ec59-40ce-990a-dca7d8395cdc",
   "metadata": {},
   "source": [
    "### The GNFS Algorithm"
   ]
  },
  {
   "cell_type": "markdown",
   "id": "90935a90-33b3-41eb-b03a-7dbc252da6f7",
   "metadata": {},
   "source": [
    "## III) Discover Quantum Computers and Qiskit"
   ]
  },
  {
   "cell_type": "markdown",
   "id": "1459f287-7b2a-444d-9218-bf72766244c4",
   "metadata": {},
   "source": [
    "### Setup"
   ]
  },
  {
   "cell_type": "markdown",
   "id": "d8bbaba0-45a4-4bcd-b416-d9fb0b334d34",
   "metadata": {},
   "source": [
    "### First Algorithm (QRNG)"
   ]
  },
  {
   "cell_type": "markdown",
   "id": "5c793bb9-2db9-4b83-aec3-cb7a3ea85e67",
   "metadata": {},
   "source": [
    "## IV) Crack RSA with Quantum Computers"
   ]
  },
  {
   "cell_type": "markdown",
   "id": "29e9d4d9-510a-4f25-9ec9-6ad3bb1711e1",
   "metadata": {},
   "source": [
    "### History of the Shor Algorithm"
   ]
  },
  {
   "cell_type": "markdown",
   "id": "8895f52c-1752-4a2e-bf28-88cfce0a52e5",
   "metadata": {},
   "source": [
    "### Implement the Shor Algorithm"
   ]
  },
  {
   "cell_type": "markdown",
   "id": "6e36cc63-bcb6-46eb-8eac-c3f67d1211ab",
   "metadata": {},
   "source": [
    "### Test the Shor algorithm on RSA"
   ]
  },
  {
   "cell_type": "markdown",
   "id": "7bd28b26-de7d-404a-8dca-fe569b46cddf",
   "metadata": {},
   "source": [
    "## V) Is security of our data compromised ?"
   ]
  },
  {
   "cell_type": "markdown",
   "id": "a32c514b-a02a-47fd-85e2-2a9927bd6acb",
   "metadata": {},
   "source": [
    "### Quantum Computers are yet not powerful enough"
   ]
  },
  {
   "cell_type": "markdown",
   "id": "d59315e8-473e-4ba9-b171-84ebb2d6de42",
   "metadata": {},
   "source": [
    "### Classical methods Discrete Log Problem (Elliptic Curve) cannot be crack by quantum computers (yet)"
   ]
  },
  {
   "cell_type": "markdown",
   "id": "7893f131-98bc-4481-a582-715df24adce3",
   "metadata": {},
   "source": [
    "### Quantum Cryptography based on entanglement"
   ]
  },
  {
   "cell_type": "code",
   "execution_count": null,
   "id": "6ed5122e-14e5-4e35-be69-7c7f6da4e35e",
   "metadata": {},
   "outputs": [],
   "source": []
  }
 ],
 "metadata": {
  "kernelspec": {
   "display_name": "Python 3 (ipykernel)",
   "language": "python",
   "name": "python3"
  },
  "language_info": {
   "codemirror_mode": {
    "name": "ipython",
    "version": 3
   },
   "file_extension": ".py",
   "mimetype": "text/x-python",
   "name": "python",
   "nbconvert_exporter": "python",
   "pygments_lexer": "ipython3",
   "version": "3.13.5"
  }
 },
 "nbformat": 4,
 "nbformat_minor": 5
}
