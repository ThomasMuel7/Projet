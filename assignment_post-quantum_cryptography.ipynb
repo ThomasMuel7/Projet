{
 "cells": [
  {
   "cell_type": "code",
   "execution_count": 1,
   "id": "0ef483e8-41aa-4b4c-82d1-6e06fff20bb1",
   "metadata": {},
   "outputs": [
    {
     "name": "stdout",
     "output_type": "stream",
     "text": [
      "Requirement already satisfied: sympy in /Users/elguedjvadim2gmail.com/.local/pipx/venvs/notebook/lib/python3.13/site-packages (1.14.0)\n",
      "Requirement already satisfied: mpmath<1.4,>=1.1.0 in /Users/elguedjvadim2gmail.com/.local/pipx/venvs/notebook/lib/python3.13/site-packages (from sympy) (1.3.0)\n",
      "Note: you may need to restart the kernel to use updated packages.\n"
     ]
    }
   ],
   "source": [
    "pip install sympy"
   ]
  },
  {
   "cell_type": "code",
   "execution_count": 2,
   "id": "c43c1ae9-9429-46c6-849f-2704b759c3d5",
   "metadata": {},
   "outputs": [
    {
     "name": "stdout",
     "output_type": "stream",
     "text": [
      "Requirement already satisfied: numpy in /Users/elguedjvadim2gmail.com/.local/pipx/venvs/notebook/lib/python3.13/site-packages (2.3.3)\n",
      "Note: you may need to restart the kernel to use updated packages.\n"
     ]
    }
   ],
   "source": [
    "pip install numpy"
   ]
  },
  {
   "cell_type": "code",
   "execution_count": 3,
   "id": "4ee5b683-8e53-4dd5-bd49-bc067bea392d",
   "metadata": {},
   "outputs": [
    {
     "name": "stdout",
     "output_type": "stream",
     "text": [
      "Requirement already satisfied: matplotlib in /Users/elguedjvadim2gmail.com/.local/pipx/venvs/notebook/lib/python3.13/site-packages (3.10.6)\n",
      "Requirement already satisfied: contourpy>=1.0.1 in /Users/elguedjvadim2gmail.com/.local/pipx/venvs/notebook/lib/python3.13/site-packages (from matplotlib) (1.3.3)\n",
      "Requirement already satisfied: cycler>=0.10 in /Users/elguedjvadim2gmail.com/.local/pipx/venvs/notebook/lib/python3.13/site-packages (from matplotlib) (0.12.1)\n",
      "Requirement already satisfied: fonttools>=4.22.0 in /Users/elguedjvadim2gmail.com/.local/pipx/venvs/notebook/lib/python3.13/site-packages (from matplotlib) (4.60.1)\n",
      "Requirement already satisfied: kiwisolver>=1.3.1 in /Users/elguedjvadim2gmail.com/.local/pipx/venvs/notebook/lib/python3.13/site-packages (from matplotlib) (1.4.9)\n",
      "Requirement already satisfied: numpy>=1.23 in /Users/elguedjvadim2gmail.com/.local/pipx/venvs/notebook/lib/python3.13/site-packages (from matplotlib) (2.3.3)\n",
      "Requirement already satisfied: packaging>=20.0 in /Users/elguedjvadim2gmail.com/.local/pipx/venvs/notebook/lib/python3.13/site-packages (from matplotlib) (25.0)\n",
      "Requirement already satisfied: pillow>=8 in /Users/elguedjvadim2gmail.com/.local/pipx/venvs/notebook/lib/python3.13/site-packages (from matplotlib) (11.3.0)\n",
      "Requirement already satisfied: pyparsing>=2.3.1 in /Users/elguedjvadim2gmail.com/.local/pipx/venvs/notebook/lib/python3.13/site-packages (from matplotlib) (3.2.5)\n",
      "Requirement already satisfied: python-dateutil>=2.7 in /Users/elguedjvadim2gmail.com/.local/pipx/venvs/notebook/lib/python3.13/site-packages (from matplotlib) (2.9.0.post0)\n",
      "Requirement already satisfied: six>=1.5 in /Users/elguedjvadim2gmail.com/.local/pipx/venvs/notebook/lib/python3.13/site-packages (from python-dateutil>=2.7->matplotlib) (1.17.0)\n",
      "Note: you may need to restart the kernel to use updated packages.\n"
     ]
    }
   ],
   "source": [
    "pip install matplotlib"
   ]
  },
  {
   "cell_type": "code",
   "execution_count": 4,
   "id": "77d9c9e1-e0b9-4e34-80f0-832171f2f352",
   "metadata": {},
   "outputs": [],
   "source": [
    "import math\n",
    "import random\n",
    "from sympy import isprime, legendre_symbol, gcd\n",
    "import numpy as np\n",
    "import time"
   ]
  },
  {
   "cell_type": "markdown",
   "id": "e1c55b55-e8cf-4352-995d-78981e011785",
   "metadata": {},
   "source": [
    "# Post Quantum Cryptography\n"
   ]
  },
  {
   "cell_type": "markdown",
   "id": "44a74313-2e92-46ca-b963-a34f79a43496",
   "metadata": {},
   "source": [
    "# I) What is RSA ?"
   ]
  },
  {
   "cell_type": "markdown",
   "id": "c4dd3f79-5bde-433d-8ff6-ed45d0827dca",
   "metadata": {},
   "source": [
    "## a) Math Introduction (base of the algorithm -> Factorisation of prime numbers)\n"
   ]
  },
  {
   "cell_type": "markdown",
   "id": "e814b805-fe62-4737-8a76-baba09682f29",
   "metadata": {},
   "source": [
    "First of all let's introduce some math aspects and especially prime numbers. \n",
    "For those who don't know what a prime number is, it's an integer greater than 1 that has only two divisors: 1 and itself. \n",
    "Examples: 2, 3, 5, 7, 11, 13...\n",
    "Let's now speak about prime factorisation : Every integer can be written as a unique product of prime numbers. This comes from the Fundamental Theorem of Arithmetic which states that \"Every integer greater than 1 is either a prime itself or can be written uniquely (up to the order of factors) as a product of prime numbers.\"\n",
    "Some key examples : 28 = 2 × 2 × 7 = 2² × 7 or 91 = 7 × 13\n",
    "The fact that every integer has a unique prime decomposition is essential in number theory and forms the foundation of modern cryptography, including RSA where factorisation in prime numbers is one of the key concepts."
   ]
  },
  {
   "cell_type": "markdown",
   "id": "2a9c5b00-3d49-4945-b201-d1ae8a1c6fb2",
   "metadata": {},
   "source": [
    "## b) Presentation of RSA (History)"
   ]
  },
  {
   "cell_type": "markdown",
   "id": "c2b643f7-ed1c-406e-b34f-95c4c85006f5",
   "metadata": {},
   "source": [
    "Before the 1970s, all cryptography relied on shared secret keys (symmetric encryption). But this raised a major problem: how could the secret key be exchanged securely if enemies were listening?\n",
    "In response to it, in 1976, Whitfield Diffie and Martin Hellman published New Directions in Cryptography by introducing the idea of a public key to encrypt and a private key to decrypt so no need to secretly exchange keys in advance.\n",
    "Building on this, researchers realized that multiplying two large prime numbers was a simple task, whereas factoring their product back into its prime components was extremely difficult.\n",
    "This property, known as a “one-way function,” provided exactly the mathematical foundation needed for a secure encryption system. In 1977, Rivest, Shamir, and Adleman transformed this insight into a practical algorithm, which became known as RSA, named after their initials."
   ]
  },
  {
   "cell_type": "markdown",
   "id": "91f6b5b2-5699-446c-b802-b54009e80e3e",
   "metadata": {},
   "source": [
    "## c) Implementation of RSA (Algorithm)"
   ]
  },
  {
   "cell_type": "markdown",
   "id": "772fcc9e-c3f5-40fb-b6aa-a49ff8c644e4",
   "metadata": {},
   "source": [
    "As you might have already guessed it we are now going to talk about the RSA algorithm. \n",
    "\n",
    "The first step is the ***Key Generation*** : \n",
    "1) Choose two prime numbers, p and q, and compute the number n = pq.\n",
    "- *n will be the modulus which will be used in both the public and private key.* \n",
    "- *The **key length** is the length of n in bits (for example 2048 bits, which is a common recommanded key length).* \n",
    "- *It is important to keep p and q secret since computing the value of n will allow anyone to \"break\" your encrypted messages.*\n",
    "2) Then, compute the value _φ_(n) = (p-1)(q-1)\n",
    "- *_φ_(n) is known as the Euler's totient function that counts the positive integers up to a given integer n that are relatively prime to n.*\n",
    "- *The RSA algorithm correctness can be proved using Euler's theorem (see below)*\n",
    "3) Choose a number e, such that 1 < e < _φ_(n) and e must be coprime with _φ_(n) (meaning gcd(e, _φ_(n)) = 1)\n",
    "- *e is called the public exponent. It is part of the public key.*\n",
    "- *The Public Key is the pair of values (n, e).*\n",
    "- *gcd is the greatest common divisor*\n",
    "4) Finally, determine d as d  ≡  $e^{-1}$  (mod  _φ_(_n_))\n",
    "- *d is the private key (sometimes the Private Key is also written as the pair of values (n, d))*\n",
    "- *d is the modular multiplicative inverse of e (modulo _φ_(n))*\n",
    "\n",
    "Now we got our public and private keys ! We can now use them to encrypt or decrypt a message.\n",
    "\n",
    "***Encrypt*** :\n",
    "Assuming you want to communicate a message M, you must first ensure that M is an integer and that 0 ≤ M < n.\n",
    "Then, you can compute the encrypted message C with :\n",
    "$C \\equiv M^{e} \\pmod{n}$ \n",
    "(Note that the value of C will be  strictly less than n, since it's the modulus)\n",
    "\n",
    "***Decrypt*** : \n",
    "To decrypt the ciphertext C, you now use the same kind of computation using the private key d : \n",
    "$M \\equiv C^{d} \\pmod{n}$ \n",
    "\n",
    "\n",
    "***Proof of correctness with Euler's Theorem :***\n",
    "\n",
    "The RSA Algorithm \"works\" because we can proove using Euler's Theorem that any encrypted message M can be decrypted to recover the exact same M.\n",
    "\n",
    "The Euler's theorem states that given any integer *n* > 0 and any integer *a* coprime with n we have :\n",
    "$a^{(φ(n)) }$  ≡  1  (mod  n)\n",
    "\n",
    "In RSA, the number *a* is actually our message M but since we built n to be a product of p and q, there are high chances that M is coprime with n. (If not, the algorithm works anyway but uses another proof with Fermat's little theorem)\n",
    "\n",
    "Now, when we want to decrypt C (which is $M^{e}$), we do $C^{d}$ = $M^{ed}$.\n",
    "\n",
    "Since we built *d* to be the modular multiplicative inverse of *e* (mod _φ_(n)) we have : ed ≡  1  (mod  _φ_(n)) <=> ed = 1 + kφ(_n_).\n",
    "\n",
    "Then the proof is : $M^{ed}$ ≡ $M^{1 + kφ(n)}$ ≡ $M * M^{kφ(n)}$ ≡ $M*1^{k}$ ≡ $M$ (mod n)\n",
    "\n",
    "We demonstrated that our private key *d* can be used to decrypt C and recover the original message M ! \n",
    "\n",
    "***Here is a quick implementation in Python of RSA, following the steps mentionned above :***"
   ]
  },
  {
   "cell_type": "code",
   "execution_count": 5,
   "id": "b16e7c06-d55c-4ca8-b82c-31990b401858",
   "metadata": {},
   "outputs": [
    {
     "name": "stdout",
     "output_type": "stream",
     "text": [
      "Public Key : (50851, 11083)\n",
      "Private Key : (50851, 43747)\n",
      "Encrypted message : 67\n",
      "Decrypted message : 12\n"
     ]
    }
   ],
   "source": [
    "#This function will generate random numbers until a prime number is generated\n",
    "def generate_prime_number(low, high):\n",
    "    while True:\n",
    "        p = random.randint(low, high)\n",
    "        if isprime(p):\n",
    "            return p\n",
    "\n",
    "# Key Generation\n",
    "def generate_keys():\n",
    "    # Step 1 : Choose p and q, prime numbers, and compute n\n",
    "    p = generate_prime_number(100, 300)  \n",
    "    q = generate_prime_number(100, 300)\n",
    "    while q == p:\n",
    "        q = generate_prime_number(100, 300)\n",
    "    \n",
    "    n = p*q\n",
    "\n",
    "    # Step 2 : Compute phi = (p-1)*(q-1)\n",
    "    phi = (p-1)*(q-1)\n",
    "\n",
    "    # Step 3 : Choose e that gcd(e, phi) = 1 and 1 < e < phi\n",
    "    e = random.randint(2, (phi-1))\n",
    "    while gcd(e, phi) != 1:\n",
    "        e = random.randint(2, (phi-1))\n",
    "    \n",
    "    # Step 4 : Compute d, the modular multiplicative inverse of e (we can use python pow() function)\n",
    "    d = pow(e, -1, phi) \n",
    "\n",
    "    public_key = (n, e)\n",
    "    private_key = (n, d)\n",
    "    return public_key, private_key\n",
    "\n",
    "# Encrypting\n",
    "def encrypt(m, public_key):\n",
    "    n, e = public_key\n",
    "    C = pow(m, e, n) #Using the definition of C above, we can use once again the pow() function to calculate the power with modulo\n",
    "    return C\n",
    "\n",
    "# Decrypting\n",
    "def decrypt(c, private_key):\n",
    "    n, d = private_key\n",
    "    M = pow(c, d, n) \n",
    "    return M\n",
    "\n",
    "public, private = generate_keys()\n",
    "print(\"Public Key :\", public)\n",
    "print(\"Private Key :\", private)\n",
    "\n",
    "message = 12 #Test message for example (for text, we will have to convert it to integers first)\n",
    "\n",
    "C = encrypt(message, public)\n",
    "print(\"Encrypted message :\", C)\n",
    "\n",
    "M = decrypt(C, private)\n",
    "print(\"Decrypted message :\", M)"
   ]
  },
  {
   "cell_type": "markdown",
   "id": "f73912b4-6fce-4eea-a6fb-b6b3fc10b099",
   "metadata": {},
   "source": [
    "## II) Can we crack RSA ?"
   ]
  },
  {
   "cell_type": "markdown",
   "id": "f56744ad-989b-4486-ab9e-dd0d2a8135a8",
   "metadata": {},
   "source": [
    "As you have seen before, factoring is very important in the field of cryptography, specifically in the RSA cryptosystem. \n",
    "\n",
    "The security of this system relies on the fact that our classical computers are not able to find (because it is hard and it is a computationally intensive task) the 2 factors of large composite numbers. \n",
    "\n",
    "Researchers have tried for many years to tackle this problem and, although they have developed increasingly sophisticated factoring algorithms (such as Pollard’s rho, the elliptic curve method, and the Number Field Sieve), these methods still require resources that grow so quickly with key size that properly chosen RSA moduli remain secure against practical classical attacks. \n",
    "\n",
    "In this part of the lab we will try to crack RSA by factoring large numbers and explore the practical limits of classical factoring techniques."
   ]
  },
  {
   "cell_type": "markdown",
   "id": "0f94fd11-2ba2-4452-b6a5-b131ccf7f7f3",
   "metadata": {},
   "source": [
    "Firstly, let's try to brute force RSA"
   ]
  },
  {
   "cell_type": "markdown",
   "id": "b63f947d-3527-4514-a25c-65a648dfbe72",
   "metadata": {},
   "source": [
    "### II.I) Brute Force\n",
    "\n",
    "Let $n = p q$ be the RSA modulus (product of two prime numbers $p$ and $q$), $L$ be the bit-length of $n$ and $e$ be the public key used for encryption.  \n",
    "There are two main brute-force approaches that could, in theory, recover the private key:\n",
    "\n",
    "1. **Directly attacking $d$**: search for $d$ without explicitly factoring $n$ (for example, by exhaustively testing possible candidates for $d$ and checking their validity).\n",
    "2. **Factorizing $n$**: recover $p$ and $q$ from $n$. Once $p$ and $q$ are known, compute $$\\varphi(n) = (p-1)(q-1)$$ and then $d$ which is the inverse of the public exponent $e$ modulo $\\varphi(n)$, such that $d \\equiv e^{-1} \\pmod{\\varphi(n)}$.\n",
    "\n",
    "---"
   ]
  },
  {
   "cell_type": "markdown",
   "id": "62559cfb-b632-4ccd-a6d6-25c275f79873",
   "metadata": {},
   "source": [
    "Here is a small code that will allow you to generate the number n to factor, the ciphertext C and the public key e."
   ]
  },
  {
   "cell_type": "code",
   "execution_count": 6,
   "id": "2638ef5f-e417-4709-900d-f7f7f2536df1",
   "metadata": {},
   "outputs": [],
   "source": [
    "def get_data_to_crack(message):\n",
    "    \"\"\"\n",
    "    allows us to retrieve everything that is visible in a crypted conversation\n",
    "    \"\"\"\n",
    "    public, private = generate_keys()\n",
    "    n, e = public\n",
    "    C = encrypt(message, public)\n",
    "    return n, C, e"
   ]
  },
  {
   "cell_type": "markdown",
   "id": "19f9083d-513a-4aa4-8751-e50168d51ebb",
   "metadata": {},
   "source": [
    "---\n",
    "\n",
    "#### *Algorithm 1 — Exhaustive search of the private exponent $d$*\n",
    "**Description.**  \n",
    "Try different values of $\\varphi(n)$ between 1 and $n$ since we don't know $\\varphi(n)$. Then try random possible values of $d$ (upper bounded by $\\varphi(n)$), and for each candidate $d$ that satisfies $d e \\equiv 1 \\pmod{\\varphi(n)}$, attempt a test decryption of the ciphertext $C$ with exponent $d$ and check the result. If the message is comprehensible, then you have found the message. Otherwise, try another value of d for the same $\\varphi(n)$ until we reach the limit $\\varphi(n)$ and then do it all over again for another $\\varphi(n)$.\n",
    "\n",
    "**Search space.**  \n",
    "1) For $\\varphi(n)$ :\n",
    "    $1 \\le \\varphi(n) \\le n$\n",
    "2) For $d$ :\n",
    "    $1 \\le d \\le \\varphi(n)$  \n",
    "\n",
    "**Complexity.**  \n",
    "The number of trials in the worst case is $\\Theta(n^2)$.  \n",
    "In terms of bit-length $L$:  \n",
    "$$\\Theta(2^{2L})$$  \n",
    "**Remark.**  \n",
    "This is the most expensive brute-force approach and becomes infeasible as soon as $L$ is even moderately large. This is also a no brainer method.\n",
    "\n",
    "Implement this algorithm and test it.\n"
   ]
  },
  {
   "cell_type": "code",
   "execution_count": 7,
   "id": "9e102025-541f-4eed-99d4-e39bf9c00143",
   "metadata": {},
   "outputs": [],
   "source": [
    "def exhaustive_search_v1(n, C, e, message):\n",
    "    \"\"\"\n",
    "    To implement this algorithm we will do the following step to see if we have found the message :\n",
    "    We don't know what the message looks like so we would have to look for the result of pow(C,d,n) everytime to see if it makes sense\n",
    "    In our case we stop when we found the message that was encrypted pow(C,d,n) == message\n",
    "    \"\"\"\n",
    "    found = False\n",
    "    for phi_n in range(1, n):\n",
    "        for d in range(1, phi_n):\n",
    "            if d*e % phi_n == 1:\n",
    "                if pow(C,d,n) == message:\n",
    "                    found = True\n",
    "                    break\n",
    "        if found :\n",
    "            break\n",
    "    return pow(C,d,n)"
   ]
  },
  {
   "cell_type": "code",
   "execution_count": 8,
   "id": "90ab07c6-c0aa-42a5-a424-362cddcbc6ab",
   "metadata": {},
   "outputs": [
    {
     "name": "stdout",
     "output_type": "stream",
     "text": [
      "Decrypted the message 12 in 0.0010769367218017578 seconds\n"
     ]
    }
   ],
   "source": [
    "message = 12\n",
    "n, C, e = get_data_to_crack(message)\n",
    "start_time = time.time()\n",
    "decrypted_message = exhaustive_search_v1(n, C, e, message)\n",
    "end_time = time.time()\n",
    "print(f\"Decrypted the message {decrypted_message} in {end_time - start_time} seconds\")"
   ]
  },
  {
   "cell_type": "markdown",
   "id": "e988729a-0f80-4138-9285-80baf8e04c20",
   "metadata": {},
   "source": [
    "---\n",
    "\n",
    "#### *Algorithm 2 — Improved exhaustive search of the private exponent $d$*\n",
    "\n",
    "Let's try to find a reasonable lower bound of $\\varphi(n)$.\n",
    "\n",
    "Write $n = p q$ with primes $2 \\le p \\le q$. Then  \n",
    "\n",
    "$$\\varphi(n) = (p-1)(q-1) = n - (p+q) + 1.$$\n",
    "\n",
    "For a fixed product $pq = n$, the sum $p+q$ is largest when $p$ is as small as possible.  \n",
    "The smallest prime factor possible is $p=2$, giving the smallest possible $\\varphi(n)$ (worst case):\n",
    "\n",
    "$$\\varphi(n)\\big|_{p=2} = (2-1)\\left(\\tfrac{n}{2} - 1\\right) = \\frac{n}{2} - 1.$$\n",
    "\n",
    "Hence, for any composite $n=pq$ (with primes $\\ge 2$) we have  \n",
    "\n",
    "$$\\varphi(n) \\;\\ge\\; \\frac{n}{2} - 1.$$\n",
    "\n",
    "This inequality is valid for all $n \\ge 4$. \n",
    "\n",
    "We know have to try different values of $\\varphi(n)$ for $\\lfloor \\frac{n}{2} - 1 \\rfloor \\;\\le\\; \\varphi(n) \\;\\le\\; n$ since we don't know $\\varphi(n)$. Then since we know $e$, because it is the public key, we can check if $e$ is not coprime with the modulus $\\varphi(n)$ and for the same $\\varphi(n)$ we can compute d  ≡  $e^{-1}$  (mod  $\\varphi(n)$) and we attempt a test decryption of the ciphertext $C$ with exponent $d$ and check the result. If the message is comprehensible, then you have found the message. Otherwise, try another value of $\\varphi(n)$.\n",
    "\n",
    "**Search space.**  \n",
    "$\\lfloor \\frac{n}{2} - 1 \\rfloor \\le \\varphi(n) \\le n$\n",
    " \n",
    "**Complexity.**  \n",
    "The number of trials in the worst case is $\\Theta(n)$ but we have less possibilities for $\\varphi(n)$.  \n",
    "In terms of bit-length $L$:  \n",
    "$$\\Theta(2^{L})$$  \n",
    "\n",
    "Implement this algorithm now"
   ]
  },
  {
   "cell_type": "code",
   "execution_count": 9,
   "id": "b14f30a9-9f59-4b9f-a517-3c86173be15e",
   "metadata": {},
   "outputs": [],
   "source": [
    "def exhaustive_search_v2(n, C, e, message):\n",
    "    \"\"\"\n",
    "    To implement this algorithm we will do the following step to see if we have found the message :\n",
    "    We don't know what the message looks like so we would have to look for the result of pow(C,d,n) everytime to see if it makes sense\n",
    "    In our case we stop when we found the message that was encrypted pow(C,d,n) == message\n",
    "    \"\"\"\n",
    "    for phi_n in range(int(n/2 - 1), n):\n",
    "        if gcd(e, phi_n) == 1:\n",
    "            d = pow(e, -1, phi_n)\n",
    "            if pow(C,d,n) == message:\n",
    "                break\n",
    "    return pow(C,d,n)"
   ]
  },
  {
   "cell_type": "code",
   "execution_count": 10,
   "id": "c5e3d344-7929-4ae6-a56f-00f692cacbde",
   "metadata": {},
   "outputs": [
    {
     "name": "stdout",
     "output_type": "stream",
     "text": [
      "Decrypted the message 12 in 0.008020162582397461 seconds\n"
     ]
    }
   ],
   "source": [
    "message = 12\n",
    "n, C, e = get_data_to_crack(message)\n",
    "start_time = time.time()\n",
    "decrypted_message = exhaustive_search_v2(n, C, e, message)\n",
    "end_time = time.time()\n",
    "print(f\"Decrypted the message {decrypted_message} in {end_time - start_time} seconds\")"
   ]
  },
  {
   "cell_type": "markdown",
   "id": "9feecaeb-7a40-483e-9b12-204c0de0a698",
   "metadata": {},
   "source": [
    "---\n",
    "\n",
    "#### *Algorithm 3 — Naïve factor search (test all integers $1,\\dots,n$)*\n",
    "**Description.** Test each integer $k \\in \\{1,\\dots,n\\}$ (or more efficiently, each prime number) to check if it divides $n$.  \n",
    "**Complexity.** $\\Theta(n) = \\Theta(2^{L})$.  \n",
    "**Remark.** The search stops as soon as a non-trivial factor $p$ is found, but the order of magnitude remains astronomically high."
   ]
  },
  {
   "cell_type": "markdown",
   "id": "034ccd34-d496-4df3-aa89-bd46d5a9464b",
   "metadata": {},
   "source": [
    "First implement the factorisation of the number n"
   ]
  },
  {
   "cell_type": "code",
   "execution_count": 11,
   "id": "7686c5b6-140d-4c1f-8708-f5bd606deb7f",
   "metadata": {},
   "outputs": [],
   "source": [
    "def factorisation_v1(n):\n",
    "    \"\"\"\n",
    "    Function that performs the prime factorisation of n\n",
    "    \"\"\"\n",
    "    for i in range(2, n):\n",
    "        if n%i == 0:\n",
    "            p = i\n",
    "            q = n//i\n",
    "            break\n",
    "    return p, q"
   ]
  },
  {
   "cell_type": "markdown",
   "id": "95e8646a-1158-4b59-99e2-18cc313523da",
   "metadata": {},
   "source": [
    "Now implement the function to retrieve the message"
   ]
  },
  {
   "cell_type": "code",
   "execution_count": 12,
   "id": "d26b51bc-93fd-46c9-bfd0-cdb8ee400d52",
   "metadata": {},
   "outputs": [],
   "source": [
    "def retrieve_message(p,q,C,e,n):\n",
    "    \"\"\"\n",
    "    Finding back the message m with the 2 factors\n",
    "    \"\"\"\n",
    "    phi_n = (p-1)*(q-1)\n",
    "    d = pow(e, -1, phi_n)\n",
    "    M = pow(C, d, n)\n",
    "    return M"
   ]
  },
  {
   "cell_type": "code",
   "execution_count": 13,
   "id": "56c6f162-638b-434d-8c2f-d87ef52c4418",
   "metadata": {},
   "outputs": [
    {
     "name": "stdout",
     "output_type": "stream",
     "text": [
      "Found the 2 factors : 131, 233\n",
      "Decypted the message 12 in 0.001291036605834961\n"
     ]
    }
   ],
   "source": [
    "message = 12\n",
    "n, C, e = get_data_to_crack(message)\n",
    "start_time = time.time()\n",
    "p, q = factorisation_v1(n)\n",
    "print(f\"Found the 2 factors : {p}, {q}\")\n",
    "decrypted_message = retrieve_message(p,q,C,e,n)\n",
    "end_time = time.time()\n",
    "print(f\"Decypted the message {M} in {end_time - start_time}\")"
   ]
  },
  {
   "cell_type": "markdown",
   "id": "1a2bff83-1b02-4a1d-b4db-2651da2573a0",
   "metadata": {},
   "source": [
    "---\n",
    "\n",
    "#### *Algorithm 4 — Trial division up to $\\sqrt{n}$*\n",
    "**Description.** Test all integers (or preferably all prime numbers) $k$ such that $2 \\le k \\le \\lfloor \\sqrt{n} \\rfloor$. As soon as one divisor is found, we obtain the factorization $n = k \\cdot (n/k)$.  \n",
    "**Justification.** If $n$ is composite (which is always the case), it necessarily has at least one non-trivial factor less than or equal to $\\sqrt{n}$.  \n",
    "**Complexity.** The number of trials is $\\Theta(\\sqrt{n})$. In terms of bit-length $L$:  \n",
    "$$\\Theta(2^{L/2})$$  \n",
    "**Remark.** This is the best asymptotic complexity achievable under a purely exhaustive brute-force approach (without using advanced algebraic structure). However, it still grows exponentially in $L$.\n",
    "\n",
    "Now implement the improved version of the factorisation"
   ]
  },
  {
   "cell_type": "code",
   "execution_count": 14,
   "id": "aa60d63a-7490-4955-a867-d6d1411d50d1",
   "metadata": {},
   "outputs": [],
   "source": [
    "def factorisation_v2(n):\n",
    "    \"\"\"\n",
    "    Function that performs the prime factorisation of n\n",
    "    \"\"\"\n",
    "    for i in range(2, int(math.sqrt(n))):\n",
    "        if n%i == 0:\n",
    "            p = i\n",
    "            q = n//i\n",
    "            break\n",
    "    return p, q"
   ]
  },
  {
   "cell_type": "code",
   "execution_count": 15,
   "id": "62d3a34d-2f1b-4d96-9ec6-9c54fee89c56",
   "metadata": {},
   "outputs": [
    {
     "name": "stdout",
     "output_type": "stream",
     "text": [
      "Found the 2 factors : 113, 263\n",
      "Decypted the message 12 in 0.0003662109375\n"
     ]
    }
   ],
   "source": [
    "message = 12\n",
    "n, C, e = get_data_to_crack(message)\n",
    "start_time = time.time()\n",
    "p, q = factorisation_v2(n)\n",
    "print(f\"Found the 2 factors : {p}, {q}\")\n",
    "decrypted_message = retrieve_message(p,q,C,e,n)\n",
    "end_time = time.time()\n",
    "print(f\"Decypted the message {M} in {end_time - start_time}\")"
   ]
  },
  {
   "cell_type": "markdown",
   "id": "c6dc6706-c60a-48bd-878d-f87493aa685f",
   "metadata": {},
   "source": [
    "---\n",
    "\n",
    "##### General Observations\n",
    "\n",
    "Even with the improvement of restricting the search space to $\\sqrt{n}$, the effort remains exponential in the bit-length $L$: the best brute-force complexity achievable is $\\Theta(2^{L/2})$.  \n",
    "Therefore, these methods are not feasible in real time for modern key sizes (e.g., $L \\ge 2048$).\n",
    "\n",
    "##### Conclusion\n",
    "\n",
    "- There are essentially two brute-force families: (1) factorizing $n$ to recover $p,q$ and then $d$, and (2) directly searching for $d$.  \n",
    "- Naïve methods yield $\\Theta(2^{L})$ complexity. The best brute-force approach (trial division up to $\\sqrt{n}$) achieves $\\Theta(2^{L/2})$.  \n",
    "- All these methods remain exponential in $L$ and are therefore impractical for standard RSA key sizes."
   ]
  },
  {
   "cell_type": "markdown",
   "id": "9f168d89-1ef0-495d-8db4-98b0b103a274",
   "metadata": {},
   "source": [
    "#### Brute-Force RSA Cracking Timeline\n",
    "\n",
    "| RSA key size (bits) | Total possibilities | Estimated time (1 GHz CPU) |\n",
    "|-------------------|------------------|---------------------------|\n",
    "| 128               | ~3.4×10³⁸        | ~10¹² years              |\n",
    "| 256               | ~1.2×10⁷⁷        | ~10⁵¹ years              |\n",
    "| 512               | ~1.3×10¹⁵⁴       | ~10¹²⁸ years             |\n",
    "| 1024              | ~1.8×10³⁰⁸       | ~10²⁸² years             |\n",
    "| 2048              | ~3.2×10⁶¹⁵       | ~10⁵⁸⁹ years             |\n",
    "| 4096              | ~1.3×10¹²³⁰      | ~10¹²⁰⁴ years            |\n"
   ]
  },
  {
   "cell_type": "markdown",
   "id": "2ee6d653-ec59-40ce-990a-dca7d8395cdc",
   "metadata": {},
   "source": [
    "### II.II) The GNFS Algorithm"
   ]
  },
  {
   "cell_type": "markdown",
   "id": "67da0984-f487-4eaf-9f3f-1d5bf05fd683",
   "metadata": {},
   "source": [
    "#### Story of the GNFS"
   ]
  },
  {
   "cell_type": "markdown",
   "id": "8c7175bb-7554-4dcc-9346-6637918b4ec7",
   "metadata": {},
   "source": [
    "The General Number Field Sieve (GNFS) is the most efficient classical algorithm known for factoring large integers larger than $10^{100}$. Its history traces the evolution of computational number theory and reflects decades of research aimed at understanding the limits of public-key cryptography, particularly RSA.\n",
    "\n",
    "The origins of the method go back to the 1980s, when John Pollard introduced the Number Field Sieve for a very special class of integers known as Cunningham numbers. Building on this idea, Arjen Lenstra, Hendrik Lenstra, Mark Manasse, and John Pollard generalized the approach in the early 1990s, creating the algorithm now known as the GNFS. This breakthrough provided, for the first time, a sub-exponential algorithm that could factor arbitrary large integers more efficiently than the Quadratic Sieve, which had been the previous state of the art.\n",
    "\n",
    "From that point forward, GNFS became the central tool in record-setting factorizations. In 1994, it was used to factor RSA-129, a 129-digit number (426 bits) made famous by Martin Gardner’s challenge in Scientific American. Over the following decades, GNFS was refined and scaled up through distributed computing efforts and advances in algorithm engineering. Notable milestones include the factorization of RSA-768 (232 digits) in 2009, RSA-240 (795 bits) in 2019, and RSA-250 in 2020. Each of these achievements pushed the limits of available hardware and demonstrated both the power of GNFS and the ongoing need to increase RSA key sizes.\n",
    "\n",
    "Today, GNFS remains the gold standard for classical integer factorization. Its history underscores the constant interplay between mathematical innovation and computational progress, and it provides the foundation for our understanding of how secure RSA remains in the face of classical attacks."
   ]
  },
  {
   "cell_type": "markdown",
   "id": "cc51d0b3-8b26-4c89-8396-afadf54735ee",
   "metadata": {},
   "source": [
    "#### The algorithm & Code in python"
   ]
  },
  {
   "cell_type": "markdown",
   "id": "872a299b-befd-403c-b5a1-09e6cc4f899e",
   "metadata": {},
   "source": [
    "**I hope you are ready and you have fastened your seatbelts, because it isn't an easy algorithm to understand!**\n",
    "We will be working through a specific numerical example to illustrate each concept along the way.\n",
    "\n",
    "**Disclaimer:**  \n",
    "This Python implementation of the General Number Field Sieve (GNFS) is designed for **educational purposes only**.  \n",
    "It is **not optimized for performance** and will run **very very very** slowly but this is a good Proof of Concept (PoC).  \n",
    "In practice, highly optimized GNFS implementations are written in **C or C++** with advanced sieving, memory management, and parallelization to handle real-world cryptographic-sized numbers efficiently.\n",
    "\n",
    "---\n",
    "\n",
    "##### Step 0: Preliminary Idea – Difference of Squares\n",
    "\n",
    "**Principle:** If we can find integers $s$ and $r$ such that:\n",
    "$s^2 \\equiv r^2 \\pmod{n}$\n",
    "then:\n",
    "$n$ divides $(s - r)(s + r)$\n",
    "\n",
    "**Factor extraction:** Let $n = p \\cdot q$ (product of two primes). Then at least one of the following is a nontrivial factor of $n$ with high probability ($\\sim 2/3$):\n",
    "$\\gcd(s + r, n)$ or $\\gcd(s - r, n)$\n",
    "\n",
    "**Core idea of GNFS:** Reduce factoring $n$ to finding a congruence of squares modulo $n$:\n",
    "$s^2 \\equiv r^2 \\pmod{n} \\Rightarrow$ potential factorization via gcd.\n",
    "\n",
    "***\n",
    "\n",
    "##### Step 1: Choose $m$ and $f(x)$\n",
    "\n",
    "We start by picking an integer $m$ close to $n^{1/d}$, where $d$ is the degree of the polynomial we want to construct. Using the base-$m$ expansion of $n$:\n",
    "$$n = a_d m^d + a_{d-1} m^{d-1} + \\dots + a_0$$we define the polynomial$$f(x) = a_d x^d + a_{d-1} x^{d-1} + \\dots + a_0$$\n",
    "so that $f(m) \\equiv 0 \\pmod{n}$. This polynomial encodes $n$ in a way that allows us to later find algebraic numbers whose squares are congruent modulo $n$, which is key to factorization.\n",
    "\n",
    "**Implementation detail:** The base-$m$ expansion provides an easy way to construct a polynomial $f(x)$ with integer coefficients where $f(m)=n$. This ensures the crucial congruence $f(m) \\equiv 0 \\pmod n$ holds, which is a fundamental requirement for the mapping $\\phi$ used later in the algorithm. For example, to factor $n=45113$, we can choose $m=31$ and use its base-31 expansion: $45113 = 1 \\cdot 31^3 + 15 \\cdot 31^2 + 29 \\cdot 31 + 8$. From this, we can define the polynomial $f(x) = x^3 + 15x^2 + 29x + 8$."
   ]
  },
  {
   "cell_type": "code",
   "execution_count": 16,
   "id": "bd23d29c-6f28-4380-96fd-7a4e58703684",
   "metadata": {},
   "outputs": [],
   "source": [
    "# ------------------------\n",
    "# Step 1: Base-m polynomial selection\n",
    "# ------------------------\n",
    "def base_m_expansion(n, m):\n",
    "    \"\"\"\n",
    "    Expand integer n in base m to get polynomial coefficients.\n",
    "    - Returns coefficients [a_d, ..., a_0] such that n = a_d*m^d + ... + a_0\n",
    "    - Highest-degree coefficient comes first\n",
    "    \"\"\"\n",
    "    coeffs = []\n",
    "    temp = n\n",
    "    degree = 0\n",
    "    # Determine the degree of the polynomial (largest power of m needed)\n",
    "    while temp // m**degree != 0:\n",
    "        degree += 1 \n",
    "    # Extract coefficients by repeatedly dividing by m\n",
    "    for _ in range(degree + 1):\n",
    "        coeffs.append(temp % m)\n",
    "        temp //= m\n",
    "    return coeffs[::-1]  # reverse so highest-degree comes first\n",
    "\n",
    "def construct_polynomial_from_m(n, m):\n",
    "    \"\"\"\n",
    "    Construct polynomial f(x) such that f(m) = n\n",
    "    - Uses base-m expansion of n\n",
    "    - Returns list of coefficients\n",
    "    \"\"\"\n",
    "    coeffs = base_m_expansion(n, m)\n",
    "    return coeffs\n",
    "\n",
    "def evaluate_polynomial(coeffs, x):\n",
    "    \"\"\"\n",
    "    Evaluate a polynomial at a given x\n",
    "    - coeffs: list of coefficients [a_d, ..., a_0]\n",
    "    - returns sum(a_i * x^(degree-i))\n",
    "    \"\"\"\n",
    "    result = 0\n",
    "    deg = len(coeffs) - 1\n",
    "    for i, c in enumerate(coeffs):\n",
    "        result += c * (x ** (deg - i))\n",
    "    return result\n",
    "\n",
    "def polynomial_function(coeffs):\n",
    "    \"\"\"\n",
    "    Return a callable function f(x) from a list of coefficients\n",
    "    - Makes it easy to evaluate polynomial at any x later\n",
    "    \"\"\"\n",
    "    return lambda x: evaluate_polynomial(coeffs, x)  # create a function for later use"
   ]
  },
  {
   "cell_type": "markdown",
   "id": "762cf0a3-3cfc-4d22-adaa-924faacf466f",
   "metadata": {},
   "source": [
    "***\n",
    "\n",
    "##### Step 2: Define the rational factor base $R$\n",
    "\n",
    "Next, we select a finite set of small prime numbers $R = \\{p_1, p_2, \\dots, p_k\\}$. This **rational factor base** will be used to check if certain integers are “smooth,” meaning they factor completely over these primes. Working with smooth numbers ensures that we can later represent them as vectors for linear algebra over $\\mathbb{F}_2$. $\\mathbb{F}_2$ is a mathematical term that refers to the finite field with two elements. In simpler terms, it's a number system that only contains the numbers 0 and 1.\n",
    "\n",
    "**Implementation detail:** The rational factor base is a collection of prime numbers. For practical purposes, it is often a set of small, consecutive primes up to a certain bound $M$, such as $R = \\{p: \\text{p is prime and } p \\le M\\}$. For the example of factoring $n=45113$, the rational factor base was chosen as all primes less than 30: $R = \\{2, 3, 5, 7, 11, 13, 17, 19, 23, 29\\}$. An integer $l$ is considered \"smooth\" over $R$ if all of its prime divisors are in $R$. This is a core concept that allows us to convert the factorization problem into a linear algebra problem over $\\mathbb{F}_2$."
   ]
  },
  {
   "cell_type": "code",
   "execution_count": 17,
   "id": "59361304-a917-44bc-b2c1-2f2770a8033b",
   "metadata": {},
   "outputs": [],
   "source": [
    "# ------------------------\n",
    "# Step 2: Rational factor base R\n",
    "# ------------------------\n",
    "def rational_factor_base(bound):\n",
    "    \"\"\"\n",
    "    Generate the rational factor base: \n",
    "    all prime numbers up to the given bound.\n",
    "    \"\"\"\n",
    "    return [p for p in range(2, bound+1) if isprime(p)]"
   ]
  },
  {
   "cell_type": "markdown",
   "id": "3a18bad2-6c01-4c58-87db-a2916dc50129",
   "metadata": {},
   "source": [
    "***\n",
    "\n",
    "##### Step 3: Define the algebraic factor base $A$\n",
    "\n",
    "In the first step, we built a list of small prime numbers to act as our \"factoring toolkit\" for regular integers. In this step, we're doing the same thing, but for a new, abstract number system.\n",
    "\n",
    "Imagine we're not just working with numbers anymore, but with a new kind of \"number plant\" that has sprouted from our polynomial. These \"number plants\" are called **algebraic numbers**, and they look like $a + b\\theta$. This is similar to how complex numbers are built: we introduce a symbol $i$ with $i^2 = -1$, and then form numbers of the type $a + bi$. So what is $\\theta$ in our case? It’s a special symbol we introduce to represent a root of our polynomial $f(x)$. For example, if $f(x) = x^2 - 2$, then $\\theta = \\sqrt{2}$ because $\\theta^2 = 2$. We don’t need to know $\\theta$ as a decimal; we just work with it symbolically, like we do with i. \n",
    "\n",
    "We now need a way to factor these new \"plants\" so we create an **algebraic factor base**, which is our toolkit of special \"algebraic prime seeds\" for this new number system.\n",
    "\n",
    "We identify these \"prime seeds\" as pairs of regular numbers, $(r_i, p_i)$, that satisfy a specific condition: when you plug $r_i$ into our original polynomial, the result is divisible by the prime $p_i$ (i.e., $f(r_i) \\equiv 0 \\pmod{p_i}$). This clever trick lets us use something we know (our polynomial) to find and categorize these new \"algebraic primes.\"\n",
    "\n",
    "**Implementation detail:** The goal is to find \"number plants\" ($a + b\\theta$) that can be completely factored using only the \"prime seeds\" in our toolkit. We call these numbers \"smooth,\" just as we did with the regular integers. This ensures that the algebraic side of our calculations is manageable and mirrors the integer side, providing two parallel sets of data that will eventually be combined. For example, with $n=45113$, we found our \"prime seeds\" by looking at all primes less than 90 : \n",
    "$A = \\{ (0, 2), (6, 7), (13, 17), (11, 23), ... , (50, 73), (23, 79), (47, 79), (73, 79), (28, 89), (62, 89), (73, 89) \\}$"
   ]
  },
  {
   "cell_type": "code",
   "execution_count": 18,
   "id": "b5f1142d-9a99-4c8e-b6eb-aa957ae8f12a",
   "metadata": {},
   "outputs": [],
   "source": [
    "# ------------------------\n",
    "# Step 3: Algebraic factor base A\n",
    "# ------------------------\n",
    "def algebraic_factor_base(f, primes):\n",
    "    \"\"\"\n",
    "    Generate the algebraic factor base:\n",
    "    pairs (r, p) where p is a prime from the given list\n",
    "    and r is a root of f(x) modulo p.\n",
    "    \"\"\"\n",
    "    A = []\n",
    "    for p in primes:\n",
    "        for r in range(p):\n",
    "            if f(r) % p == 0:\n",
    "                A.append((r, p))\n",
    "    return A\n"
   ]
  },
  {
   "cell_type": "markdown",
   "id": "26210308-8dbb-4400-b566-ee66fd395cf6",
   "metadata": {},
   "source": [
    "***\n",
    "\n",
    "##### Step 4: Define the quadratic character base $Q$\n",
    "\n",
    "To capture additional congruence information, we choose a set of primes $Q$ not in $A$ and find integers $s$ such that $f(s) \\equiv 0 \\pmod{q}$. This **quadratic character base** helps control certain signs and parity conditions when combining smooth numbers, which is crucial for guaranteeing that the final products will form perfect squares.\n",
    "\n",
    "**Implementation detail:** This base helps verify that an element in $\\mathbb{Z}[\\theta]$ is a perfect square. Each entry in $Q$ is a pair $(s, q)$, where $q$ is a prime not in $A$ and $s$ satisfies $f(s) \\equiv 0 \\pmod q$. These pairs are used to compute the Legendre symbol $\\left(\\frac{a+bs}{q}\\right)$, which acts as a check for squareness. The number of entries in $Q$ can be increased to raise the probability that the final result is a perfect square. For $n=45113$, primes 97, 101, 103, and 107 were used to build $Q$. $Q = \\{(28, 97), (87, 101), (47, 103), (4, 107), (8, 107), (80, 107)\\}$"
   ]
  },
  {
   "cell_type": "code",
   "execution_count": 19,
   "id": "39efd591-959a-4c08-ac36-b43db4055485",
   "metadata": {},
   "outputs": [],
   "source": [
    "# ------------------------\n",
    "# Step 4: Quadratic character base Q\n",
    "# ------------------------\n",
    "def quadratic_character_base(f, primes, exclude_A):\n",
    "    \"\"\"\n",
    "    Generate the quadratic character base:\n",
    "    pairs (s, q) where q is a prime (not in the Algebraic factor base)\n",
    "    and s is a root of f(x) modulo q.\n",
    "    \"\"\"\n",
    "    Q = []\n",
    "    for q in primes:\n",
    "        if q in exclude_A:  # skip primes already used in A\n",
    "            continue\n",
    "        for s in range(q):\n",
    "            if f(s) % q == 0:\n",
    "                Q.append((s, q))\n",
    "    return Q\n"
   ]
  },
  {
   "cell_type": "markdown",
   "id": "26aa72de-4ad3-450b-b948-161d45775409",
   "metadata": {},
   "source": [
    "***\n",
    "\n",
    "##### Step 5: Find smooth pairs $(a, b)$\n",
    "\n",
    "We then search for integer pairs $(a, b)$ such that both $a + bm$ and $a + b\\theta$ are smooth over the rational and algebraic factor bases, respectively. By looping over $a$ for fixed $b$ and checking factorability, we collect enough pairs (typically more than $1 + k + l + u$) to ensure the linear system in the next step will have nontrivial solutions. These **smooth pairs** form the building blocks for constructing a congruence of squares.\n",
    "\n",
    "*1+k+l+u represents the total number of columns in the matrix we are building, where 1 is for the sign bit, k is the number of primes in the rational factor base, l is the number of \"algebraic primes\" in the algebraic factor base, and u is the number of primes in the quadratic character base.*\n",
    "\n",
    "**Implementation detail:** This is the core \"sieving\" part of the algorithm. We fix a small integer $b$ and let $a$ vary over a range, for example from $-N$ to $N$. For each pair $(a, b)$, we test if $a+bm$ is smooth over the rational factor base $R$ and if $a+b\\theta$ is smooth over the algebraic factor base $A$. This is done using sieve arrays. An integer $q \\in R$ divides $a+bm$ if $a \\equiv -bm \\pmod q$, while an algebraic factor $(r_i, p_i) \\in A$ divides $a+b\\theta$ if $a \\equiv -br_i \\pmod{p_i}$. We continue this process with different values of $b$ until we have found a sufficient number of smooth pairs, which is typically more than the total number of elements in all three bases ($1+k+l+u$)."
   ]
  },
  {
   "cell_type": "code",
   "execution_count": 20,
   "id": "44a47a63-0d4c-4293-aceb-9be374c01779",
   "metadata": {},
   "outputs": [],
   "source": [
    "# ------------------------\n",
    "# Step 5: Find smooth pairs (a, b)\n",
    "# ------------------------\n",
    "def factorize_with_sieve(x, factor_base_primes, spf):\n",
    "    \"Factor x with respect to the base, or tell me it’s not smooth.\"\n",
    "    # Return a list of exponents for each prime in factor_base_primes\n",
    "    # Exponents = how many times each prime divides x\n",
    "    # Leftover cofactor = any remaining part of x not in the base (1 if fully smooth)\n",
    "    # Example: \n",
    "    #   factor_base_primes = [2, 3, 5]\n",
    "    #   x = 60 = 2^2 * 3^1 * 5^1\n",
    "    #   returns: ([2, 1, 1], 1)  --> fully smooth\n",
    "    #   x = 77 = 7 * 11\n",
    "    #   returns: ([0, 0, 0], 77) --> not smooth\n",
    "    if x <= 1:\n",
    "        return [0] * len(factor_base_primes), 1\n",
    "\n",
    "    exponents = [0] * len(factor_base_primes)\n",
    "    temp_x = x\n",
    "\n",
    "    # Factor using precomputed smallest-prime-factor table (spf)\n",
    "    while temp_x > 1:\n",
    "        p = spf[temp_x]                     # smallest prime factor of temp_x\n",
    "        try:\n",
    "            idx = factor_base_primes.index(p)   # find index in factor base\n",
    "            exponents[idx] += 1\n",
    "        except ValueError:\n",
    "            # Found a prime not in the factor base -> not smooth\n",
    "            return [0] * len(factor_base_primes), temp_x\n",
    "        temp_x //= p                        # divide out this factor\n",
    "    return exponents, 1\n",
    "\n",
    "def find_smooth_pairs(n, m, f, R, A, Q, a_limit=50, b_limit=3):\n",
    "    \"Systematically search for smooth pairs (a, b) that will later build the GNFS matrix.\"\n",
    "    pairs = []\n",
    "    A_primes = [p for _, p in A]\n",
    "\n",
    "    # Determine range for sieve (must cover all candidate values of a + b*m and a + b*f(m))\n",
    "    max_val_rational = b_limit * m + a_limit\n",
    "    max_val_algebraic = b_limit * f(m) + a_limit\n",
    "    max_val = max(max_val_rational, max_val_algebraic)\n",
    "\n",
    "    # Build smallest-prime-factor (spf) table via sieve of Eratosthenes\n",
    "    spf = list(range(max_val + 1))\n",
    "    for i in range(2, int(max_val**0.5) + 1):\n",
    "        if spf[i] == i:                      # i is prime\n",
    "            for j in range(i * i, max_val + 1, i):\n",
    "                if spf[j] == j:\n",
    "                    spf[j] = i               # record smallest prime factor for j\n",
    "\n",
    "    # Lookup dictionaries (not strictly needed, but conceptually map base primes to indices)\n",
    "    R_dict = {p: i for i, p in enumerate(R)}\n",
    "    A_dict = {p: i for i, p in enumerate(A_primes)}\n",
    "\n",
    "    # Loop over candidate (a, b) values\n",
    "    for b in range(1, b_limit):\n",
    "        for a in range(-a_limit, a_limit):\n",
    "            val_r = a + b * m                 # rational side value\n",
    "            val_a = a + b * f(m)              # algebraic side value (f evaluated at m)\n",
    "\n",
    "            # Factor rational side; skip if not smooth over R\n",
    "            rat_exp, rem_r = factorize_with_sieve(abs(val_r), R, spf)\n",
    "            if rem_r != 1:\n",
    "                continue\n",
    "\n",
    "            # Factor algebraic side; skip if not smooth over A\n",
    "            alg_exp, rem_a = factorize_with_sieve(abs(val_a), A_primes, spf)\n",
    "            if rem_a != 1:\n",
    "                continue\n",
    "\n",
    "            # Quadratic character contributions from (s, q) in Q\n",
    "            quad_exp = [0 if legendre_symbol(a + b * s, q) == 1 else 1 for s, q in Q]\n",
    "\n",
    "            # Save relation: exponent vectors and sign bits\n",
    "            pairs.append({\n",
    "                \"a\": a, \"b\": b,\n",
    "                \"rational\": rat_exp,\n",
    "                \"algebraic\": alg_exp,\n",
    "                \"quadratic\": quad_exp,\n",
    "                \"sign_r\": 0 if val_r >= 0 else 1,\n",
    "                \"sign_a\": 0 if val_a >= 0 else 1\n",
    "            })\n",
    "\n",
    "    return pairs"
   ]
  },
  {
   "cell_type": "markdown",
   "id": "0e398ad0-f946-4b36-b2f9-93e6bba825dc",
   "metadata": {},
   "source": [
    "***\n",
    "\n",
    "##### Step 6: Construct the matrix $X$\n",
    "\n",
    "Each smooth pair $(a, b)$ is represented as a row vector containing the sign of $a + bm$, the exponents of its rational prime factors modulo 2, the exponents of the algebraic factors modulo 2, and any relevant quadratic characters. Stacking these vectors forms a $y \\times (1+k+l+u)$ matrix $X$. y is the number of smooth pairs collected hance the number of rows in the matrix. This matrix encodes all information necessary to combine smooth numbers into perfect squares.\n",
    "\n",
    "**Implementation detail:** For each smooth pair $(a,b)$, a row vector is created. The first entry is a sign bit (0 for positive $a+bm$, 1 for negative). The next $k$ entries are the exponents of the primes in the rational factor base $R$ from the factorization of $a+bm$, taken modulo 2. The following $l$ entries are the exponents of the algebraic factors from the factorization of $a+b\\theta$, also modulo 2. Finally, the last $u$ entries are derived from the quadratic character base $Q$, representing whether the Legendre symbol $\\left(\\frac{a+bs}{q}\\right)$ is 1 (entry 0) or -1 (entry 1). This vector essentially summarizes the parity of the exponents and the quadratic characters, which is a concise way to check for perfect squares."
   ]
  },
  {
   "cell_type": "code",
   "execution_count": 21,
   "id": "c3c8ebc0-8427-4538-945c-e48cfe08b03a",
   "metadata": {},
   "outputs": [],
   "source": [
    "# ------------------------\n",
    "# Step 6: Construct matrix X\n",
    "# ------------------------\n",
    "def construct_matrix_X(pairs, R_len, A_len, Q_len):\n",
    "    \"\"\"\n",
    "    Build the exponent matrix X for GNFS:\n",
    "    - Each row corresponds to a smooth pair (a, b)\n",
    "    - Columns represent:\n",
    "        1. Sign bits (rational and algebraic)\n",
    "        2. Exponents modulo 2 for rational factor base R\n",
    "        3. Exponents modulo 2 for algebraic factor base A\n",
    "        4. Quadratic character bits for Q\n",
    "    - All entries reduced modulo 2 for linear algebra over F2\n",
    "    \"\"\"\n",
    "    matrix = []\n",
    "    for p in pairs:\n",
    "        # Combine all info into a single row\n",
    "        row = [p[\"sign_r\"], p[\"sign_a\"]] + p[\"rational\"] + p[\"algebraic\"] + p[\"quadratic\"]\n",
    "        # Reduce entries modulo 2\n",
    "        matrix.append([x % 2 for x in row])\n",
    "    return np.array(matrix, dtype=int)\n"
   ]
  },
  {
   "cell_type": "markdown",
   "id": "35fc31d3-3514-4a2f-bbb0-420b4bc19f61",
   "metadata": {},
   "source": [
    "***\n",
    "\n",
    "##### Step 7: Solve the linear system modulo 2\n",
    "\n",
    "We solve the system\n",
    "$$X^T \\cdot \\mathbf{A} \\equiv 0 \\pmod{2}$$to find subsets of smooth pairs that, when multiplied together, produce a perfect square both in $\\mathbb{Z}$ and in $\\mathbb{Z}[\\theta]$. Let $V \\subset U$ denote the selected subset. By construction:\n",
    "$$\\prod_{(a_j, b_j) \\in V} (a_j + bm) \\text{ is a perfect square in } \\mathbb{Z},$$\n",
    "$$\\prod_{(a_j, b_j) \\in V} (a_j + b_j\\theta) \\text{ is a perfect square in } \\mathbb{Z}[\\theta]$$\n",
    "This gives us the congruence of squares needed to attempt factorization.\n",
    "\n",
    "**Implementation detail:** The matrix equation $X^T \\mathbf{A} \\equiv \\mathbf{0} \\pmod 2$ is a system of linear equations over the field $\\mathbb{F}_2$. The entries of the vector $\\mathbf{A}$ are either 0 or 1, and a non-trivial solution is guaranteed to exist if the number of rows is greater than the number of columns ($y > 1+k+l+u$). Each $A_j=1$ in the solution vector corresponds to including the $j$-th smooth pair $(a_j, b_j)$ in the product. When the vectors corresponding to these pairs are added modulo 2, the result is the zero vector, which means that all exponents (and signs) in the final product are even, a necessary condition for being a perfect square."
   ]
  },
  {
   "cell_type": "code",
   "execution_count": 22,
   "id": "92a05fb6-87c0-4d80-b1e8-d9bed45001fe",
   "metadata": {},
   "outputs": [],
   "source": [
    "# ------------------------\n",
    "# Step 7: Solve linear system modulo 2\n",
    "# ------------------------\n",
    "def solve_linear_system_mod2(X):\n",
    "    \"\"\"\n",
    "    Solve the linear system X^T * A ≡ 0 (mod 2) to find dependencies:\n",
    "    - Each row in X represents a smooth pair (a, b)\n",
    "    - Columns are exponent/sign/quadratic bits modulo 2\n",
    "    - Goal: find non-trivial combinations of rows that sum to the zero vector (over F2)\n",
    "    - Returns indices of dependent rows forming a solution\n",
    "    \"\"\"\n",
    "    mat = X.copy()\n",
    "    rows, cols = mat.shape\n",
    "    pivot_rows = []      # keep track of pivot rows used in elimination\n",
    "    dependencies = []    # store indices of rows that form zero-sum combinations\n",
    "\n",
    "    # Gaussian elimination modulo 2\n",
    "    for col in range(cols):\n",
    "        pivot_row = None\n",
    "        for r in range(rows):\n",
    "            if r in pivot_rows:\n",
    "                continue\n",
    "            if mat[r, col] == 1:\n",
    "                pivot_row = r\n",
    "                pivot_rows.append(r)  # mark row as used as pivot\n",
    "                break\n",
    "        if pivot_row is None:\n",
    "            continue\n",
    "        # Eliminate 1s in this column from other rows\n",
    "        for r in range(rows):\n",
    "            if r != pivot_row and mat[r, col] == 1:\n",
    "                mat[r] = (mat[r] + mat[pivot_row]) % 2\n",
    "\n",
    "    # Rows that become all zeros correspond to dependencies\n",
    "    for i, row in enumerate(mat):\n",
    "        if not row.any():\n",
    "            dependencies.append(i)\n",
    "\n",
    "    # Return indices of dependent rows, or [0] if none found\n",
    "    return dependencies if dependencies else [0]\n"
   ]
  },
  {
   "cell_type": "markdown",
   "id": "c6b16dca-c14a-4489-89de-5f70423f5f3a",
   "metadata": {},
   "source": [
    "***\n",
    "\n",
    "##### Step 8: Factor $n$ using the difference of squares\n",
    "\n",
    "Finally, we map the algebraic product back to integers using\n",
    "$$x^2 = \\phi \\left( \\prod_{(a_j, b_j) \\in V} (a_j + b_j\\theta) \\right),$$$$y^2 = \\prod_{(a_j, b_j) \\in V} (a_j + bm)$$and try to extract factors via$$\\gcd(n, x+y) \\quad \\text{and} \\quad \\gcd(n, x-y)$$\n",
    "If a nontrivial factor is found, the algorithm succeeds. Otherwise, we repeat the process with a new factor base or additional smooth pairs. This step exploits the classical “difference of squares” idea: if $s^2 \\equiv r^2 \\pmod{n}$, then $\\gcd(s \\pm r, n)$ often reveals a nontrivial factor of $n$.\n",
    "\n",
    "**Implementation detail:** With the subset of pairs $V$ from the previous step, we compute the products to get a perfect square in $\\mathbb{Z}$ and a perfect square in $\\mathbb{Z}[\\theta]$. We then compute the integer value of the algebraic perfect square using the mapping $\\phi: \\mathbb{Z}[\\theta] \\rightarrow \\mathbb{Z}/n\\mathbb{Z}$. This mapping satisfies $\\phi(\\theta) \\equiv m \\pmod n$. Thus, if $\\beta^2 = \\prod_{(a_j, b_j) \\in V} (a_j + b_j\\theta)$, then $\\phi(\\beta^2) = \\phi(\\beta)\\phi(\\beta)$ and $\\phi(\\beta^2) = \\phi(\\prod_{(a_j, b_j) \\in V} (a_j + b_j\\theta)) = \\prod_{(a_j, b_j) \\in V} (a_j + b_jm)$. This creates the congruence of squares $x^2 \\equiv y^2 \\pmod n$ that can be used for factorization with a high probability of success. For example, in the case of $n=45113$, this process led to the discovery of factors 197 and 229."
   ]
  },
  {
   "cell_type": "code",
   "execution_count": 23,
   "id": "3d3effd9-8b63-4915-89bf-828aaf83995c",
   "metadata": {},
   "outputs": [],
   "source": [
    "# ------------------------\n",
    "# Step 8: Factor n using difference of squares\n",
    "# ------------------------\n",
    "def difference_of_squares_factor(n, s, r):\n",
    "    \"\"\"\n",
    "    Attempt to factor n using the difference of squares:\n",
    "    If s^2 ≡ r^2 (mod n), then n divides (s-r)*(s+r).\n",
    "    Returns a non-trivial factor if found, else None.\n",
    "    \"\"\"\n",
    "    factor1 = gcd(s + r, n)\n",
    "    factor2 = gcd(s - r, n)\n",
    "    # Keep only non-trivial factors (not 1 or n)\n",
    "    factors = [f for f in (factor1, factor2) if 1 < f < n]\n",
    "    return factors[0] if factors else None\n",
    "\n",
    "\n",
    "def factor_n_from_pairs(n, pairs, dependency, m, f):\n",
    "    \"\"\"\n",
    "    Combine selected smooth pairs (from dependency) to form perfect squares:\n",
    "    - Multiply rational side (a + b*m) to get x^2\n",
    "    - Multiply algebraic side (a + b*theta) evaluated at m to get y^2\n",
    "    - Use difference_of_squares_factor to attempt factorization of n\n",
    "    \"\"\"\n",
    "    x_prod = 1\n",
    "    y_prod = 1\n",
    "    for idx in dependency:\n",
    "        a = pairs[idx][\"a\"]\n",
    "        b = pairs[idx][\"b\"]\n",
    "        x_prod *= (a + b * m)          # integer side\n",
    "        y_prod *= (a + b * f(m))       # algebraic side evaluated at m\n",
    "    \n",
    "    x = abs(x_prod)\n",
    "    y = int(math.isqrt(abs(y_prod)))   # take integer square root\n",
    "    \n",
    "    factor = difference_of_squares_factor(n, x, y)\n",
    "    return factor\n"
   ]
  },
  {
   "cell_type": "markdown",
   "id": "78ff8107-e192-4cc6-b691-85168dfdee09",
   "metadata": {},
   "source": [
    "#### Complexity"
   ]
  },
  {
   "cell_type": "markdown",
   "id": "898e7c96-234a-4dd2-93da-0a11d835cb72",
   "metadata": {},
   "source": [
    "Heuristically, its complexity for factoring an integer `n` (consisting of $\\lfloor\\log_2 n\\rfloor + 1$ bits) is of the form:"
   ]
  },
  {
   "cell_type": "markdown",
   "id": "6ebc6bc6-acc7-4848-aa02-c4f4a84ad43b",
   "metadata": {},
   "source": [
    "![alt text](GNFS_complexity.svg)"
   ]
  },
  {
   "cell_type": "markdown",
   "id": "d77caad4-bd79-4939-b34e-44af4d9a2f25",
   "metadata": {},
   "source": [
    "#### Write the algorithm"
   ]
  },
  {
   "cell_type": "code",
   "execution_count": 24,
   "id": "9b559757-cdde-44da-8c50-debac2ff2f48",
   "metadata": {},
   "outputs": [],
   "source": [
    "def polynomial_to_string(coeffs):\n",
    "    \"\"\"Convert a list of coefficients into a polynomial string. Only for print purposes\"\"\"\n",
    "    degree = len(coeffs) - 1\n",
    "    terms = []\n",
    "    for i, c in enumerate(coeffs):\n",
    "        power = degree - i\n",
    "        if c == 0:\n",
    "            continue\n",
    "        if power == 0:\n",
    "            terms.append(f\"{c}\")\n",
    "        elif power == 1:\n",
    "            terms.append(f\"{c}*x\")\n",
    "        else:\n",
    "            terms.append(f\"{c}*x**{power}\")\n",
    "    return \" + \".join(terms)"
   ]
  },
  {
   "cell_type": "markdown",
   "id": "279ec60c-cf2f-4136-ac1c-da15178ca933",
   "metadata": {},
   "source": [
    "In the section above we listed and implemented all the functions you needed to construct the GNFS algorithm. Now try to implement the full algorithm yourself."
   ]
  },
  {
   "cell_type": "code",
   "execution_count": 25,
   "id": "1bcc1062-cc43-4999-8aeb-3ebbfb187bb7",
   "metadata": {},
   "outputs": [],
   "source": [
    "def gnfs(n, m, R_bound=30, A_bound=90, Q_bound=107, a_limit=20, b_limit=3):\n",
    "    coeffs = construct_polynomial_from_m(n, m)\n",
    "    f = polynomial_function(coeffs)\n",
    "    print(f\"Polynomial f(x) = {polynomial_to_string(coeffs)}\")\n",
    "\n",
    "    R = rational_factor_base(R_bound)\n",
    "    print(f\"Rational factor base R: {R}\")\n",
    "    \n",
    "    A_primes = [p for p in range(2, A_bound) if isprime(p)]\n",
    "    A = algebraic_factor_base(f, A_primes)\n",
    "    print(f\"Algebraic factor base A: {A}\")\n",
    "    \n",
    "    Q_primes = [p for p in range(A_bound + 1, Q_bound + 1) if isprime(p)]\n",
    "    Q = quadratic_character_base(f, Q_primes, [p for _, p in A])\n",
    "    print(f\"Quadratic character base Q: {Q}\")\n",
    "    \n",
    "    pairs = find_smooth_pairs(n, m, f, R, A, Q, a_limit=a_limit, b_limit=b_limit)\n",
    "    print(f\"Found {len(pairs)} smooth pairs\")\n",
    "    \n",
    "    num_cols = len(R) + len(A) + len(Q) + 1\n",
    "    if len(pairs) < num_cols:\n",
    "        print(\"Not enough smooth pairs. Increase limits (a and b) or bounds (R, A, Q).\")\n",
    "        return None\n",
    "\n",
    "    X = construct_matrix_X(pairs, len(R), len(A), len(Q))\n",
    "    dependency = solve_linear_system_mod2(X)\n",
    "\n",
    "    if not dependency:\n",
    "      print(\"No non-trivial dependency found.\")\n",
    "      return None\n",
    "\n",
    "    factor = factor_n_from_pairs(n, pairs, dependency, m, f)\n",
    "    return factor"
   ]
  },
  {
   "cell_type": "markdown",
   "id": "cd316699-3531-499b-a661-f5055ab49e35",
   "metadata": {},
   "source": [
    "The code below will allow you to run gnfs without keeping track of where you are"
   ]
  },
  {
   "cell_type": "code",
   "execution_count": 26,
   "id": "070df887-d066-40b5-b83e-637158ff1060",
   "metadata": {},
   "outputs": [],
   "source": [
    "def gnfs_no_print(n, m, R_bound=30, A_bound=90, Q_bound=107, a_limit=20, b_limit=3):\n",
    "    coeffs = construct_polynomial_from_m(n, m)\n",
    "    f = polynomial_function(coeffs)\n",
    "    R = rational_factor_base(R_bound)\n",
    "    A_primes = [p for p in range(2, A_bound) if isprime(p)]\n",
    "    A = algebraic_factor_base(f, A_primes)\n",
    "    Q_primes = [p for p in range(A_bound + 1, Q_bound + 1) if isprime(p)]\n",
    "    Q = quadratic_character_base(f, Q_primes, [p for _, p in A])\n",
    "    pairs = find_smooth_pairs(n, m, f, R, A, Q, a_limit=a_limit, b_limit=b_limit)\n",
    "    num_cols = len(R) + len(A) + len(Q) + 2\n",
    "    if len(pairs) < num_cols:\n",
    "        return None\n",
    "    X = construct_matrix_X(pairs, len(R), len(A), len(Q))\n",
    "    dependency = solve_linear_system_mod2(X)\n",
    "    if not dependency:\n",
    "      return None\n",
    "    factor = factor_n_from_pairs(n, pairs, dependency, m, f)\n",
    "    return factor"
   ]
  },
  {
   "cell_type": "markdown",
   "id": "39cee277-0916-4513-82cb-71784c3ade94",
   "metadata": {},
   "source": [
    "Let's run it on an example. The goal here is only to find the prime factors of a given number because this is the most difficult part. This example will work (please note that the execution takes 8-12 seconds approximately) but if you want to try different values feel free but it might not work."
   ]
  },
  {
   "cell_type": "code",
   "execution_count": 27,
   "id": "822a76fe-be8a-4479-a3b4-5ec63b29d470",
   "metadata": {},
   "outputs": [
    {
     "name": "stdout",
     "output_type": "stream",
     "text": [
      "Trying to factor 45113 with m=31...\n",
      "Polynomial f(x) = 1*x**3 + 15*x**2 + 29*x + 8\n",
      "Rational factor base R: [2, 3, 5, 7, 11, 13, 17, 19, 23, 29, 31, 37, 41, 43, 47, 53, 59, 61, 67, 71, 73]\n",
      "Algebraic factor base A: [(0, 2), (6, 7), (13, 17), (11, 23), (26, 29), (18, 31), (19, 41), (13, 43), (1, 53), (46, 61), (2, 67), (6, 67), (44, 67), (50, 73), (23, 79), (47, 79), (73, 79), (28, 89), (62, 89), (73, 89), (28, 97), (87, 101), (47, 103), (4, 107), (8, 107), (80, 107), (52, 109), (99, 109), (108, 113), (33, 139)]\n",
      "Quadratic character base Q: [(11, 151), (42, 151), (83, 151), (67, 157), (56, 163), (137, 167)]\n",
      "Found 556 smooth pairs\n",
      "Found the 2 factors : 197 and 229 in 9.694768905639648 seconds\n",
      "45113 = 197 * 229\n"
     ]
    }
   ],
   "source": [
    "n = 45113\n",
    "m = 31\n",
    "print(f\"Trying to factor {n} with m={m}...\")\n",
    "start_time = time.time()\n",
    "factor = gnfs(n, m, R_bound=75, A_bound=150, Q_bound=167, a_limit=770, b_limit=753)\n",
    "if factor:\n",
    "    end_time = time.time()\n",
    "    print(f\"Found the 2 factors : {factor} and {n // factor} in {end_time - start_time} seconds\")\n",
    "    print(f\"{n} = {factor} * {n // factor}\")\n",
    "else:\n",
    "    print(f\"Could not factor {n}\")\n",
    "    print(f\"Try increasing limits (a and b) or bounds (R, A, Q) or use different values of m\")"
   ]
  },
  {
   "cell_type": "markdown",
   "id": "da29a9ed-aa4d-4647-9208-2887601b04de",
   "metadata": {},
   "source": [
    "Here is a code to try to find good values for the bounds and limits :"
   ]
  },
  {
   "cell_type": "code",
   "execution_count": 28,
   "id": "f36a99de-38da-44aa-a1a9-5de3ab85f275",
   "metadata": {},
   "outputs": [
    {
     "name": "stdout",
     "output_type": "stream",
     "text": [
      "Realised factorisation with i = 5\n",
      "Found the 2 factors : 7 and 11 in 0.008357763290405273 seconds\n",
      "77 = 7 * 11\n"
     ]
    }
   ],
   "source": [
    "n = 77\n",
    "m = 5\n",
    "factor = False\n",
    "i = 0\n",
    "while not factor :\n",
    "    start_time = time.time()\n",
    "    factor = gnfs_no_print(n, m, R_bound=i, A_bound=2*i, Q_bound=2*i+17, a_limit=20+10*i, b_limit=3+10*i)\n",
    "    if factor:\n",
    "        end_time = time.time()\n",
    "        print(f\"Realised factorisation with i = {i}\")\n",
    "        print(f\"Found the 2 factors : {factor} and {n // factor} in {end_time - start_time} seconds\")\n",
    "        print(f\"{n} = {factor} * {n // factor}\")\n",
    "    else:\n",
    "        i += 1"
   ]
  },
  {
   "cell_type": "markdown",
   "id": "88fcdfeb-8e29-4e34-b697-17dd1c99f2d0",
   "metadata": {},
   "source": [
    "#### GNFS Cracking Time Estimates (Classical Resources)\n",
    "\n",
    "For reference, the following table estimates show how long it would take to factor RSA keys of different sizes. The times are extrapolated from data on previously factored, smaller numbers.\n",
    "\n",
    "| RSA key size (bits) | 1 core | 100 cores | 1 k cores | 10 k cores | 1 M cores |\n",
    "|---------------------|--------------:|----------:|----------:|-----------:|-----------:|\n",
    "| **512** | ~10 years     | ~36 days  | ~3.6 days | ~8.6 hours | ~5 minutes | \n",
    "| **768** | ~600 years    | ~6 years  | ~2.2 years| ~7.9 months| ~5 days    | \n",
    "| **1024** | ~30,000 years | ~300 years| ~30 years | ~3 years   | ~10 days   | \n",
    "| **2048** | ~1B years     | ~10M years| ~1M years | ~100k years| ~1,000 years| \n",
    "| **4096** | ~10¹⁵ years   | ~10¹³ years| ~10¹² years| ~10¹¹ years| ~10⁹ years |\n",
    "\n"
   ]
  },
  {
   "cell_type": "markdown",
   "id": "5808d5dc-f179-408e-ad10-09944f640d44",
   "metadata": {},
   "source": [
    "As we can see, classical computers have no hope of cracking RSA today. But what about the emerging world of quantum computing ? Could it succeed where classical machines fail?"
   ]
  },
  {
   "cell_type": "markdown",
   "id": "90935a90-33b3-41eb-b03a-7dbc252da6f7",
   "metadata": {},
   "source": [
    "## III) Foundations of Quantum Physics"
   ]
  },
  {
   "cell_type": "markdown",
   "id": "b2ea210a-d121-406b-bdc6-7161f22621ab",
   "metadata": {},
   "source": [
    "### Brief Introduction"
   ]
  },
  {
   "cell_type": "markdown",
   "id": "7d4fa165-e032-49a8-add9-1bc82a067989",
   "metadata": {},
   "source": [
    "Quantum physics, also known as quantum mechanics, is the branch of physics that describes the behavior of matter and energy at the smallest scales—atoms, electrons, and photons. It emerged in the early 20th century when classical physics could no longer explain phenomena such as blackbody radiation, the photoelectric effect, and atomic spectra.\n",
    "\n",
    "Key milestones include Max Planck’s quantization of energy (1900), Albert Einstein’s explanation of the photoelectric effect (1905), Niels Bohr’s atomic model (1913), and the development of wave mechanics by Erwin Schrödinger and matrix mechanics by Werner Heisenberg in the 1920s. Together, these discoveries formed the foundation of quantum theory, revolutionizing our understanding of the natural world.\n",
    "\n",
    "Quantum mechanics not only explains the structure of matter but also underpins modern technologies such as semiconductors, lasers, quantum computers, and medical imaging. Today, it remains both a practical tool for technology and a profound framework that challenges our notions of reality, probability, and measurement."
   ]
  },
  {
   "cell_type": "markdown",
   "id": "822364d4-5676-4da4-8fec-7a66595da4d2",
   "metadata": {},
   "source": [
    "### Superposition and no-cloning theorem"
   ]
  },
  {
   "cell_type": "markdown",
   "id": "52820b8d-4ccd-4f83-a3e9-5d25630b7b8f",
   "metadata": {},
   "source": [
    "![alt text](shrodinger_cat.jpeg)"
   ]
  },
  {
   "cell_type": "markdown",
   "id": "91ee21cc-5b53-4cb9-a735-8306c3f7924a",
   "metadata": {},
   "source": [
    "Superposition is one of the most fundamental ideas in quantum mechanics. Unlike a classical bit, which can only be in a definite state of `0` or `1`, a quantum bit (qubit) can exist in a combination of both states at the same time, with certain probabilities. But we will talk about qubits later. Erwin Schrödinger illustrated this with his famous thought experiment known as Schrödinger’s cat. Imagine a cat placed in a sealed box with a radioactive atom, a Geiger counter, and a vial of poison that will be released if the atom decays. According to quantum theory, before the box is opened, the atom is in a superposition of “decayed” and “not decayed.” Consequently, the cat is also in a superposition of being both alive and dead simultaneously. It is only when we observe (open the box) that the system collapses into one definite outcome. \n",
    "\n",
    "This \"collapse\" happens in the quantum world whenever we observe or measure a particle: the superposition disappears and we only see one definite result. Because of this, it is also impossible to make a perfect copy of an unknown quantum state. This is called the no-cloning theorem. In everyday life, we can copy files on a computer or duplicate a piece of paper. But with quantum particles, copying would mean knowing the exact state of the particle without disturbing it — and that is impossible. If we try to measure the particle to figure out its state, the superposition collapses, and we lose the original information. In simple terms: you can’t peek at a quantum state without changing it, and you can’t duplicate superposition without destroying it."
   ]
  },
  {
   "cell_type": "markdown",
   "id": "5ced1bdb-c508-4e58-9674-f75304fa7b99",
   "metadata": {},
   "source": [
    "### Entanglement"
   ]
  },
  {
   "cell_type": "markdown",
   "id": "6b01058a-fa1f-41a8-909c-979da5b0b18a",
   "metadata": {},
   "source": [
    "Entanglement is a strange and fascinating feature of the quantum world. When two particles become entangled, their states are linked, no matter how far apart they are. This means that if you measure one particle, you instantly know the state of the other, even if it is on the other side of the universe. In fact, the information is spread faster than the speed of light — it happens instantly. \n",
    "\n",
    "For example, imagine you have a pair of magic coins that are entangled. You put one coin in New York and the other in Tokyo. If you flip the coin in New York and it lands on heads, the coin in Tokyo will automatically be heads as well. \n",
    "\n",
    "Entanglement is different from superposition: with superposition, a single particle is in multiple states at once. With entanglement, two or more particles are linked so that their states depend on each other."
   ]
  },
  {
   "cell_type": "markdown",
   "id": "9e1a49f6-6764-4021-8f98-30c2dcc07946",
   "metadata": {},
   "source": [
    "## IV) Discover the Quantum Computers"
   ]
  },
  {
   "cell_type": "markdown",
   "id": "74718406-6ecf-480b-b7a0-4e43655582f0",
   "metadata": {},
   "source": [
    "### What is a quantum computer"
   ]
  },
  {
   "cell_type": "markdown",
   "id": "436e6d90-9079-42b3-ab79-3f1e7b7c2730",
   "metadata": {},
   "source": [
    "A quantum computer is a new kind of computer that uses the rules of quantum mechanics to process information. Unlike classical computers, which use bits that are either 0 or 1, quantum computers use qubits that can be in a superposition of 0 and 1 at the same time. This allows quantum computers to perform certain calculations much faster than classical computers.\n",
    "\n",
    "However, one common misconception is that quantum computers can test all possibilities at once to solve any problem instantly. In reality, quantum computers cannot do everything — they are not general-purpose machines like your laptop or phone. For example, you cannot play video games or browse the web on a quantum processor. Instead, quantum computers are specialized tools designed to solve very specific types of problems, such as factoring large numbers, simulating molecules, or optimizing complex systems, where the principles of superposition and entanglement give them an advantage over classical machines."
   ]
  },
  {
   "cell_type": "markdown",
   "id": "a1aefbd9-934d-4a8d-956e-7764adf1865b",
   "metadata": {},
   "source": [
    "### What is a qubit & how to measure a state ?"
   ]
  },
  {
   "cell_type": "markdown",
   "id": "0e61d31d-c915-4c18-bfa2-5e57e1696a19",
   "metadata": {},
   "source": [
    "A **qubit** is the basic unit of information in a quantum computer, similar to a classical bit.  \n",
    "Unlike a classical bit, which is either `0` or `1`, a qubit can be in a **superposition** of both states at the same time. Mathematically, we write a qubit as:\n",
    "\n",
    "$$\n",
    "|\\psi\\rangle = \\alpha |0\\rangle + \\beta |1\\rangle\n",
    "$$\n",
    "\n",
    "where $\\alpha$ and $\\beta$ are complex numbers ($a + bi$ or $re^{i\\phi}$) will describe (after taking the modulus squared) the probability amplitudes of the qubit being in state `0` or `1`.  \n",
    "We can also represent this qubit as a **column vector** also known as **ket**:\n",
    "\n",
    "$$\n",
    "|\\psi\\rangle =\n",
    "\\begin{pmatrix}\n",
    "\\alpha \\\\\n",
    "\\beta\n",
    "\\end{pmatrix}\n",
    "$$\n",
    "\n",
    "When we **measure** a qubit, even in superposition of states, it will collapse into one of the two definite states (`0` or `1`) of classical computers. The **probability** of each outcome is given by the **modulus squared** of the amplitude and by the rules of quantum mechanics, the **sum of these probabilities is always 1**. For example, to calculate the probability of state 0 :\n",
    "\n",
    "$$\n",
    "P(0) = |\\alpha|^2 = a^2 + b^2 = r^2\n",
    "$$\n",
    "\n",
    "For example, we consider a qubit in superposition with the quantum state :\n",
    "$$\n",
    "|\\psi\\rangle = \\frac{1}{\\sqrt{2}} |0\\rangle + \\frac{1}{\\sqrt{2}} |1\\rangle\n",
    "$$ \n",
    "We can measure the probabilities of the states 0 and 1 : \n",
    "$P(0) = |\\alpha|^2 = (\\frac{1}{\\sqrt{2}})^2 = 0.5$ and $P(1) = |\\beta|^2 = (\\frac{1}{\\sqrt{2}})^2 = 0.5$. If we measure this state multiple times, the qubit will give `0` 50% of the time and `1` 50% of the time.  \n",
    "\n",
    "There are many ways to represent a qubit in hardware. In fact it can be realized in both natural and synthetic systems. **Natural qubits** exploit quantum states that exist inherently in nature, such as the spin of an electron or nucleus, the polarization of a photon, or the internal states of trapped ions like $^{171}\\mathrm{Yb}^+$. **Synthetic qubits** are engineered quantum systems designed to behave like two-level systems, including superconducting circuits (like transmons), quantum dots, nitrogen-vacancy (NV) centers in diamond, and topological qubits based on exotic states of matter. Natural qubits take advantage of existing quantum properties, while synthetic qubits are created to be highly controllable and scalable for quantum computing.\n"
   ]
  },
  {
   "cell_type": "markdown",
   "id": "4cab4215-0c5f-4679-a381-448816d7448d",
   "metadata": {},
   "source": [
    "### Relaxation (T1) and Decoherence (T2) times in quantum world"
   ]
  },
  {
   "cell_type": "markdown",
   "id": "6864f920-08c6-4174-b7b4-715f2301e0b8",
   "metadata": {},
   "source": [
    "In the quantum world, qubits are delicate and easily disturbed by their environment. Two important timescales describe how long a qubit can maintain its quantum behavior. **Relaxation time (T1)** measures how long a qubit stays in an excited state before it “relaxes” back to its ground state. For example, if a qubit is in state $|1⟩$, T1 tells us how long it takes, on average, to decay to state $|0⟩$. This is sometimes called the energy relaxation time. **Decoherence time (T2)** measures how long a qubit can maintain its quantum superposition (a combination of $|0⟩$ and $|1⟩$) before it loses coherence due to interaction with the environment. Decoherence causes the qubit to behave more like a classical bit, destroying the advantages of quantum computation. \n",
    "Let's take the example below. The relaxation time will actually represent the time where the electron spin goes from up to down (qubit 1 to qubit 0) and the decoherence time is the time that the qubit takes to go from a superposition state (right image) to the state 0 (left image) or 1 (middle image)\n",
    "T2 is usually shorter than T1, because decoherence can happen even if the qubit hasn’t lost energy. In simple terms, T1 is how long the qubit keeps its energy, and T2 is how long the qubit keeps its quantum “weirdness” (superposition). These times are critical in designing quantum algorithms because qubits must maintain coherence long enough to perform calculations accurately. "
   ]
  },
  {
   "cell_type": "markdown",
   "id": "66ce85f2-4992-409b-b2c6-dab7ea945e52",
   "metadata": {},
   "source": [
    "![alt text](visualise_times.png)"
   ]
  },
  {
   "cell_type": "markdown",
   "id": "b77bbb7e-35a1-41ba-8d8d-869a0dba3f8c",
   "metadata": {},
   "source": [
    "### Quantum Circuits & Gates"
   ]
  },
  {
   "cell_type": "markdown",
   "id": "344b3a95-ce20-4374-b2b9-60befe7b4fde",
   "metadata": {},
   "source": [
    "In quantum computing, implementing an algorithm involves **building a quantum circuit**, which is a sequence of operations applied to qubits. These operations are performed using **quantum gates**, which manipulate 1 or many qubits by changing their states, creating superpositions, or generating entanglement. \n",
    "\n",
    "Mathematically, each quantum gate is represented as a **unitary matrix**. A **unitary matrix** is a special kind of square matrix $U$ that satisfies $U^\\dagger U = U U^\\dagger = I$, where $U^\\dagger$ is the conjugate transpose of $U$ and $I$ is the identity matrix. Unitary matrices preserve the length of vectors, which in quantum computing means they maintain the total probability of a qubit state. All **quantum gates** are represented by unitary matrices because they perform reversible operations on qubits without losing information.\n",
    "\n",
    "Applying a gate to a qubit corresponds to a **matrix multiplication** with the qubit’s state vector. From a computer science perspective, quantum gates provide a **level of abstraction**, allowing us to design and reason about algorithms without worrying about the specific physical hardware. This is similar to classical programming, where we focus on **what the computation does** rather than the details of the underlying processor architecture.\n",
    "\n",
    "#### Example: The Hadamard Gate\n",
    "\n",
    "One of the most famous and useful quantum gates is the **Hadamard gate (H)**, which creates **superposition**. When applied to a qubit, it transforms the basis states $|0⟩$ or $|1⟩$ into an equal superposition of both.  \n",
    "\n",
    "The **matrix representation** of the Hadamard gate is:\n",
    "\n",
    "$$\n",
    "H = \\frac{1}{\\sqrt{2}}\n",
    "\\begin{bmatrix}\n",
    "1 & 1 \\\\\n",
    "1 & -1\n",
    "\\end{bmatrix}\n",
    "$$\n",
    "\n",
    "For a qubit initially in state $|0⟩$:\n",
    "\n",
    "$$\n",
    "|0⟩ = \n",
    "\\begin{bmatrix}\n",
    "1 \\\\\n",
    "0\n",
    "\\end{bmatrix},\n",
    "$$\n",
    "\n",
    "applying the Hadamard gate gives:\n",
    "\n",
    "$$\n",
    "H|0⟩ = \\frac{1}{\\sqrt{2}}\n",
    "\\begin{bmatrix}\n",
    "1 & 1 \\\\\n",
    "1 & -1\n",
    "\\end{bmatrix}\n",
    "\\begin{bmatrix}\n",
    "1 \\\\\n",
    "0\n",
    "\\end{bmatrix}\n",
    "= \\frac{1}{\\sqrt{2}}\n",
    "\\begin{bmatrix}\n",
    "1 \\\\\n",
    "1\n",
    "\\end{bmatrix}\n",
    "= \\frac{|0⟩ + |1⟩}{\\sqrt{2}}\n",
    "$$\n",
    "\n",
    "This puts the qubit in a **superposition**, with an equal probability of being measured as 0 or 1. The Hadamard gate is a fundamental building block for many quantum algorithms, including the **quantum Fourier transform** and **Grover’s search**.\n",
    "\n",
    "For a complete list of quantum gates, [see this link](https://qiskit.org/documentation/apidoc/circuit_library.html).\n"
   ]
  },
  {
   "cell_type": "markdown",
   "id": "f6e31b4a-f537-41c6-9642-7bd14eea2662",
   "metadata": {},
   "source": [
    "### Advanced Concepts and Further Reading"
   ]
  },
  {
   "cell_type": "markdown",
   "id": "fed95a7c-4a75-47bb-bc88-b9b18821b22b",
   "metadata": {},
   "source": [
    "If you’ve read all the previous sections, great job! If you really like this topic or are really interested in it, there are several additional aspects of quantum computing that we haven’t covered in detail yet. For the rest you can skip this part. \n",
    "\n",
    "One key reason quantum computers can be faster than classical ones is that **$n$ qubits can represent $2^n$ classical states simultaneously**, thanks to superposition. You can read more about this [here](https://quantumcomputing.stackexchange.com/questions/4652/understanding-theoretical-computing-power-of-quantum-computers).  \n",
    "\n",
    "To describe multiple qubits together, we use the **tensor product**, which combines individual qubit states into a single multi-qubit state. Quantum gates can then operate on these combined states, enabling complex transformations that are difficult or impossible for classical computers. Learn more about the tensor product [here](https://medium.com/quantum-untangled/tensor-products-linear-algebra-for-qc-8f7bb5020c6c).  \n",
    "\n",
    "We also haven’t gone into detail about the different types of quantum hardware and quantum error correction, but this [guide](https://www.bluequbit.io/quantum-computing-hardware?utm_source=chatgpt.com) provides a comprehensive overview. Finally, another important topic we haven’t discussed yet is **quantum simulators**, which allow researchers to test and explore quantum algorithms on classical machines. Learn more about it [here](https://www.bluequbit.io/quantum-computing-simulators)."
   ]
  },
  {
   "cell_type": "markdown",
   "id": "d67c93cd-d6ff-4501-bdda-41415aa429de",
   "metadata": {},
   "source": [
    "## V) Setting up our first algorithm for quantum computers"
   ]
  },
  {
   "cell_type": "markdown",
   "id": "1459f287-7b2a-444d-9218-bf72766244c4",
   "metadata": {},
   "source": [
    "### Setting up qiskit"
   ]
  },
  {
   "cell_type": "markdown",
   "id": "ab4d7053-a4bd-484a-a2a1-96618cdf7a07",
   "metadata": {},
   "source": [
    "We will be running the functions on a quantum computer simulator so you don't have to setup a IBM qiskit account. If you want to run your code on a real quantum hardware we advice you to follow the steps [here](https://canvas.kth.se/courses/56029/pages/tutorial-ibm-quantum-platform-upgraded-login-api-key-and-your-first-run-bell-pair?module_item_id=1256103)."
   ]
  },
  {
   "cell_type": "code",
   "execution_count": 29,
   "id": "f9af8595-5276-47c1-afd6-49c5daafe3c5",
   "metadata": {},
   "outputs": [
    {
     "name": "stdout",
     "output_type": "stream",
     "text": [
      "Requirement already satisfied: qiskit in /Users/elguedjvadim2gmail.com/.local/pipx/venvs/notebook/lib/python3.13/site-packages (2.2.1)\n",
      "Requirement already satisfied: rustworkx>=0.15.0 in /Users/elguedjvadim2gmail.com/.local/pipx/venvs/notebook/lib/python3.13/site-packages (from qiskit) (0.17.1)\n",
      "Requirement already satisfied: numpy<3,>=1.17 in /Users/elguedjvadim2gmail.com/.local/pipx/venvs/notebook/lib/python3.13/site-packages (from qiskit) (2.3.3)\n",
      "Requirement already satisfied: scipy>=1.5 in /Users/elguedjvadim2gmail.com/.local/pipx/venvs/notebook/lib/python3.13/site-packages (from qiskit) (1.16.2)\n",
      "Requirement already satisfied: dill>=0.3 in /Users/elguedjvadim2gmail.com/.local/pipx/venvs/notebook/lib/python3.13/site-packages (from qiskit) (0.4.0)\n",
      "Requirement already satisfied: stevedore>=3.0.0 in /Users/elguedjvadim2gmail.com/.local/pipx/venvs/notebook/lib/python3.13/site-packages (from qiskit) (5.5.0)\n",
      "Requirement already satisfied: typing-extensions in /Users/elguedjvadim2gmail.com/.local/pipx/venvs/notebook/lib/python3.13/site-packages (from qiskit) (4.15.0)\n",
      "Note: you may need to restart the kernel to use updated packages.\n"
     ]
    }
   ],
   "source": [
    "pip install qiskit"
   ]
  },
  {
   "cell_type": "code",
   "execution_count": 30,
   "id": "5ddf1aa1-a275-472d-8315-954b3dd3c6df",
   "metadata": {},
   "outputs": [
    {
     "name": "stdout",
     "output_type": "stream",
     "text": [
      "Requirement already satisfied: qiskit-aer in /Users/elguedjvadim2gmail.com/.local/pipx/venvs/notebook/lib/python3.13/site-packages (0.17.2)\n",
      "Requirement already satisfied: qiskit>=1.1.0 in /Users/elguedjvadim2gmail.com/.local/pipx/venvs/notebook/lib/python3.13/site-packages (from qiskit-aer) (2.2.1)\n",
      "Requirement already satisfied: numpy>=1.16.3 in /Users/elguedjvadim2gmail.com/.local/pipx/venvs/notebook/lib/python3.13/site-packages (from qiskit-aer) (2.3.3)\n",
      "Requirement already satisfied: scipy>=1.0 in /Users/elguedjvadim2gmail.com/.local/pipx/venvs/notebook/lib/python3.13/site-packages (from qiskit-aer) (1.16.2)\n",
      "Requirement already satisfied: psutil>=5 in /Users/elguedjvadim2gmail.com/.local/pipx/venvs/notebook/lib/python3.13/site-packages (from qiskit-aer) (7.1.0)\n",
      "Requirement already satisfied: python-dateutil>=2.8.0 in /Users/elguedjvadim2gmail.com/.local/pipx/venvs/notebook/lib/python3.13/site-packages (from qiskit-aer) (2.9.0.post0)\n",
      "Requirement already satisfied: six>=1.5 in /Users/elguedjvadim2gmail.com/.local/pipx/venvs/notebook/lib/python3.13/site-packages (from python-dateutil>=2.8.0->qiskit-aer) (1.17.0)\n",
      "Requirement already satisfied: rustworkx>=0.15.0 in /Users/elguedjvadim2gmail.com/.local/pipx/venvs/notebook/lib/python3.13/site-packages (from qiskit>=1.1.0->qiskit-aer) (0.17.1)\n",
      "Requirement already satisfied: dill>=0.3 in /Users/elguedjvadim2gmail.com/.local/pipx/venvs/notebook/lib/python3.13/site-packages (from qiskit>=1.1.0->qiskit-aer) (0.4.0)\n",
      "Requirement already satisfied: stevedore>=3.0.0 in /Users/elguedjvadim2gmail.com/.local/pipx/venvs/notebook/lib/python3.13/site-packages (from qiskit>=1.1.0->qiskit-aer) (5.5.0)\n",
      "Requirement already satisfied: typing-extensions in /Users/elguedjvadim2gmail.com/.local/pipx/venvs/notebook/lib/python3.13/site-packages (from qiskit>=1.1.0->qiskit-aer) (4.15.0)\n",
      "Note: you may need to restart the kernel to use updated packages.\n"
     ]
    }
   ],
   "source": [
    "pip install qiskit-aer"
   ]
  },
  {
   "cell_type": "code",
   "execution_count": 31,
   "id": "4be27890-ab5e-455e-bed0-9396108148a6",
   "metadata": {},
   "outputs": [
    {
     "name": "stdout",
     "output_type": "stream",
     "text": [
      "Requirement already satisfied: qiskit[visualization] in /Users/elguedjvadim2gmail.com/.local/pipx/venvs/notebook/lib/python3.13/site-packages (2.2.1)\n",
      "Requirement already satisfied: rustworkx>=0.15.0 in /Users/elguedjvadim2gmail.com/.local/pipx/venvs/notebook/lib/python3.13/site-packages (from qiskit[visualization]) (0.17.1)\n",
      "Requirement already satisfied: numpy<3,>=1.17 in /Users/elguedjvadim2gmail.com/.local/pipx/venvs/notebook/lib/python3.13/site-packages (from qiskit[visualization]) (2.3.3)\n",
      "Requirement already satisfied: scipy>=1.5 in /Users/elguedjvadim2gmail.com/.local/pipx/venvs/notebook/lib/python3.13/site-packages (from qiskit[visualization]) (1.16.2)\n",
      "Requirement already satisfied: dill>=0.3 in /Users/elguedjvadim2gmail.com/.local/pipx/venvs/notebook/lib/python3.13/site-packages (from qiskit[visualization]) (0.4.0)\n",
      "Requirement already satisfied: stevedore>=3.0.0 in /Users/elguedjvadim2gmail.com/.local/pipx/venvs/notebook/lib/python3.13/site-packages (from qiskit[visualization]) (5.5.0)\n",
      "Requirement already satisfied: typing-extensions in /Users/elguedjvadim2gmail.com/.local/pipx/venvs/notebook/lib/python3.13/site-packages (from qiskit[visualization]) (4.15.0)\n",
      "Requirement already satisfied: matplotlib>=3.3 in /Users/elguedjvadim2gmail.com/.local/pipx/venvs/notebook/lib/python3.13/site-packages (from qiskit[visualization]) (3.10.6)\n",
      "Requirement already satisfied: pydot in /Users/elguedjvadim2gmail.com/.local/pipx/venvs/notebook/lib/python3.13/site-packages (from qiskit[visualization]) (4.0.1)\n",
      "Requirement already satisfied: Pillow>=4.2.1 in /Users/elguedjvadim2gmail.com/.local/pipx/venvs/notebook/lib/python3.13/site-packages (from qiskit[visualization]) (11.3.0)\n",
      "Requirement already satisfied: pylatexenc>=1.4 in /Users/elguedjvadim2gmail.com/.local/pipx/venvs/notebook/lib/python3.13/site-packages (from qiskit[visualization]) (2.10)\n",
      "Requirement already satisfied: seaborn>=0.9.0 in /Users/elguedjvadim2gmail.com/.local/pipx/venvs/notebook/lib/python3.13/site-packages (from qiskit[visualization]) (0.13.2)\n",
      "Requirement already satisfied: sympy>=1.3 in /Users/elguedjvadim2gmail.com/.local/pipx/venvs/notebook/lib/python3.13/site-packages (from qiskit[visualization]) (1.14.0)\n",
      "Requirement already satisfied: contourpy>=1.0.1 in /Users/elguedjvadim2gmail.com/.local/pipx/venvs/notebook/lib/python3.13/site-packages (from matplotlib>=3.3->qiskit[visualization]) (1.3.3)\n",
      "Requirement already satisfied: cycler>=0.10 in /Users/elguedjvadim2gmail.com/.local/pipx/venvs/notebook/lib/python3.13/site-packages (from matplotlib>=3.3->qiskit[visualization]) (0.12.1)\n",
      "Requirement already satisfied: fonttools>=4.22.0 in /Users/elguedjvadim2gmail.com/.local/pipx/venvs/notebook/lib/python3.13/site-packages (from matplotlib>=3.3->qiskit[visualization]) (4.60.1)\n",
      "Requirement already satisfied: kiwisolver>=1.3.1 in /Users/elguedjvadim2gmail.com/.local/pipx/venvs/notebook/lib/python3.13/site-packages (from matplotlib>=3.3->qiskit[visualization]) (1.4.9)\n",
      "Requirement already satisfied: packaging>=20.0 in /Users/elguedjvadim2gmail.com/.local/pipx/venvs/notebook/lib/python3.13/site-packages (from matplotlib>=3.3->qiskit[visualization]) (25.0)\n",
      "Requirement already satisfied: pyparsing>=2.3.1 in /Users/elguedjvadim2gmail.com/.local/pipx/venvs/notebook/lib/python3.13/site-packages (from matplotlib>=3.3->qiskit[visualization]) (3.2.5)\n",
      "Requirement already satisfied: python-dateutil>=2.7 in /Users/elguedjvadim2gmail.com/.local/pipx/venvs/notebook/lib/python3.13/site-packages (from matplotlib>=3.3->qiskit[visualization]) (2.9.0.post0)\n",
      "Requirement already satisfied: six>=1.5 in /Users/elguedjvadim2gmail.com/.local/pipx/venvs/notebook/lib/python3.13/site-packages (from python-dateutil>=2.7->matplotlib>=3.3->qiskit[visualization]) (1.17.0)\n",
      "Requirement already satisfied: pandas>=1.2 in /Users/elguedjvadim2gmail.com/.local/pipx/venvs/notebook/lib/python3.13/site-packages (from seaborn>=0.9.0->qiskit[visualization]) (2.3.3)\n",
      "Requirement already satisfied: pytz>=2020.1 in /Users/elguedjvadim2gmail.com/.local/pipx/venvs/notebook/lib/python3.13/site-packages (from pandas>=1.2->seaborn>=0.9.0->qiskit[visualization]) (2025.2)\n",
      "Requirement already satisfied: tzdata>=2022.7 in /Users/elguedjvadim2gmail.com/.local/pipx/venvs/notebook/lib/python3.13/site-packages (from pandas>=1.2->seaborn>=0.9.0->qiskit[visualization]) (2025.2)\n",
      "Requirement already satisfied: mpmath<1.4,>=1.1.0 in /Users/elguedjvadim2gmail.com/.local/pipx/venvs/notebook/lib/python3.13/site-packages (from sympy>=1.3->qiskit[visualization]) (1.3.0)\n",
      "Note: you may need to restart the kernel to use updated packages.\n"
     ]
    }
   ],
   "source": [
    "pip install 'qiskit[visualization]'"
   ]
  },
  {
   "cell_type": "code",
   "execution_count": 32,
   "id": "0c7795b7-3b01-42e7-ab8d-5f8499b71b63",
   "metadata": {},
   "outputs": [],
   "source": [
    "from qiskit import QuantumCircuit, transpile\n",
    "from qiskit_aer import AerSimulator\n",
    "from qiskit.visualization import plot_histogram"
   ]
  },
  {
   "cell_type": "markdown",
   "id": "860b41c3-dbab-44aa-bd5e-c0de3327058f",
   "metadata": {},
   "source": [
    "Here is a function to run your circuit on a simulator"
   ]
  },
  {
   "cell_type": "code",
   "execution_count": 33,
   "id": "a70cef88-e240-42d2-9a2b-24341c470250",
   "metadata": {},
   "outputs": [],
   "source": [
    "def run_quantum_circuit(qc, shots=1024):\n",
    "    simulator = AerSimulator()\n",
    "    compiled_circuit = transpile(qc, simulator)\n",
    "    job = simulator.run(compiled_circuit, shots=shots)\n",
    "    result = job.result()\n",
    "    counts = result.get_counts()\n",
    "    return counts"
   ]
  },
  {
   "cell_type": "markdown",
   "id": "d8bbaba0-45a4-4bcd-b416-d9fb0b334d34",
   "metadata": {},
   "source": [
    "### First Algorithm (QRNG)"
   ]
  },
  {
   "cell_type": "markdown",
   "id": "5c793bb9-2db9-4b83-aec3-cb7a3ea85e67",
   "metadata": {},
   "source": [
    "## VI) Crack RSA with Quantum Computers"
   ]
  },
  {
   "cell_type": "markdown",
   "id": "29e9d4d9-510a-4f25-9ec9-6ad3bb1711e1",
   "metadata": {},
   "source": []
  },
  {
   "cell_type": "markdown",
   "id": "6ec405b7-e841-4ae0-90eb-caf2d6c6a361",
   "metadata": {},
   "source": [
    "## Shor Algorithm\n",
    "\n",
    "---\n",
    "\n",
    "### Objective\n",
    "\n",
    "Shor’s algorithm allows us to **factor an integer $n$**, i.e. to find its prime factors $p$ and $q$ such that:\n",
    "\n",
    "$$\n",
    "n = p \\cdot q\n",
    "$$\n",
    "\n",
    "This directly breaks RSA because it lets us compute $\\varphi(n)$.\n",
    "\n",
    "---\n",
    "\n",
    "### Step 1: Choose a random number $a$\n",
    "\n",
    "Choose $a$ such that $1 < a < n$\n",
    "\n",
    "- If $\\gcd(a, n) \\neq 1$, then we have already found a **non-trivial factor** of $n$: factorization is done, and we stop here.  \n",
    "> Note: for RSA, since $n = p \\cdot q$, $\\gcd(a, n) \\neq 1$ directly gives $p$ or $q$.  \n",
    "- If $\\gcd(a, n) = 1$, proceed to the next step.\n",
    "\n",
    "---\n",
    "\n",
    "### Step 2: Find the order $r$ of $a$ modulo $n$\n",
    "\n",
    "- If $\\gcd(a, n) = 1$, then $a$ is **invertible modulo $n$** and there exists an integer $k$ such that:  \n",
    "    $$\n",
    "    a^k \\equiv 1 \\bmod n\n",
    "    $$\n",
    "- We denote $r$ as the order of $a$ modulo $n$. It is the smallest integer $k$ such that:\n",
    "    $$\n",
    "    a^k \\equiv 1 \\bmod n\n",
    "    $$\n",
    "- Once the order $r$ is found, if it is odd, go back to Step 1. Otherwise, continue to the next step.\n",
    "> Note: we search for $r$ and not a multiple because:\n",
    "> - if $k$ is even, $a^{r_{multiple}} = a^{kr/2} \\equiv 1 \\bmod n$, which gives trivial GCDs (1 or n)\n",
    "> - if $k$ is odd, $a^{r_{multiple}} \\equiv a^{r/2} \\bmod n$, so we gain nothing\n",
    "\n",
    "---\n",
    "\n",
    "### Step 3: Compute the factors of $n$\n",
    "\n",
    "- If the order $r$ of $a$ is even, then we can write:\n",
    "\n",
    "   $$(a^{r/2} - 1)(a^{r/2} + 1) \\equiv 0 \\bmod n$$\n",
    "\n",
    "  *Proof:* Since $a^r \\equiv 1 \\bmod n$ and $a^r - 1 = (a^{r/2} - 1)(a^{r/2} + 1)$, the product is zero modulo $n$.\n",
    "\n",
    "- If $a^{r/2} \\pm 1 \\not\\equiv 0 \\bmod n$, then the non-trivial factors of $n$ are given by:  \n",
    "  $$\n",
    "  p = \\gcd(a^{r/2} - 1, n), \\quad\n",
    "  q = \\gcd(a^{r/2} + 1, n)\n",
    "  $$\n",
    "\n",
    "  Otherwise, go back to Step 1.\n",
    "\n",
    "---\n",
    "\n",
    "### Algorithm summary:\n",
    "- Step 1: Choose a random number $a$ such that $1 < a < n$.\n",
    "- Step 2: Find the order $r$ of $a$ modulo $n$.\n",
    "- Step 3: Compute the prime factors:\n",
    "  $$\n",
    "  p = \\gcd(a^{r/2} - 1, n), \\quad\n",
    "  q = \\gcd(a^{r/2} + 1, n)\n",
    "  $$\n",
    "---\n",
    "\n",
    "### Note: The role of the quantum computer\n",
    "\n",
    "- The hard part is to **find $r$ efficiently**.  \n",
    "- On a classical computer, you’d need to test many powers → too slow.  \n",
    "- The quantum computer uses:  \n",
    "  1. **Superposition**: all possible $k$ values are put in a quantum state.  \n",
    "  2. **Function $f(k) = a^k \\bmod n$** applied in parallel.  \n",
    "  3. **Quantum Fourier Transform (QFT)**: reveals the period $r$.  \n",
    "  4. **Measurement**: retrieves $r$ with high probability.  \n",
    "\n",
    "---\n",
    "\n",
    "### Proof of correctness\n",
    "\n",
    "1. **Existence of $r$**: every function $f(k) = a^k \\bmod n$ is periodic modulo $p$ and $q$ if $\\gcd(a, n) = 1$.  \n",
    "2. **Factorization via gcd**: if $r$ is even and $a^{r/2} \\not\\equiv -1$, then $(a^{r/2}-1)(a^{r/2}+1) \\equiv 0 \\bmod n$, and the gcd extracts a prime factor.  \n",
    "3. **Probability of success**: at least half of all possible $a$ lead to success → repeating a few times almost always works.  \n",
    "4. **Completeness**: for RSA, finding one factor is enough to recover the other.\n",
    "\n",
    "---\n",
    "\n",
    "### Concrete example\n",
    "\n",
    "Take $n = 15 = 3 \\cdot 5$ and $a = 2$:\n",
    "\n",
    "1. $\\gcd(2,15)=1$, so continue.  \n",
    "2. Function: $f(k) = 2^k \\bmod 15$  \n",
    "3. Order: $r = 4$ (first $k$ with $2^k \\equiv 1 \\mod 15$)  \n",
    "4. Factorization: $2^4 - 1 = 15 = (2^2-1)(2^2+1) = 3 \\cdot 5$  \n",
    "5. GCD computation: $\\gcd(3,15)=3$, $\\gcd(5,15)=5$ → the prime factors are found.  \n",
    "\n",
    "> Everything works perfectly.\n",
    "\n",
    "---\n"
   ]
  },
  {
   "cell_type": "markdown",
   "id": "7bd28b26-de7d-404a-8dca-fe569b46cddf",
   "metadata": {},
   "source": [
    "## VII) Is security of our data compromised ?"
   ]
  },
  {
   "cell_type": "markdown",
   "id": "a32c514b-a02a-47fd-85e2-2a9927bd6acb",
   "metadata": {},
   "source": [
    "### Quantum Computers are yet not powerful enough"
   ]
  },
  {
   "cell_type": "markdown",
   "id": "88851a5a-4fdb-4a30-96f8-9998c312381a",
   "metadata": {},
   "source": [
    "Although Shor’s algorithm provides a polynomial-time method for integer factorization, its practical application is severely limited by the current state of quantum hardware. Experimental demonstrations have so far only managed to factor very small numbers, with the most reliable implementations handling integers such as **15** and **21**.  \n",
    "\n",
    "**Guess what?** *YOU have implemented a circuit that factors 15!* So you officially belong to the elite ranks of quantum computing pioneers :).\n",
    "\n",
    "These results validate the algorithm but highlight the vast gap between theoretical capability and cryptographically relevant problem sizes.\n",
    "\n",
    "Estimates for breaking a **2048-bit RSA modulus** remain far beyond present technology. Factoring such a number is projected to require approximately **20 million physical qubits** when error correction overhead is considered. Even with algorithmic optimizations, the requirement is unlikely to fall below **one million physical qubits**. By contrast, the most advanced hardware currently available contains just over **1,000 qubits** (such as IBM’s *Condor* processor with **1,121 qubits**), underscoring the enormous gap between experimental capability and the resources required to compromise RSA in practice.  \n",
    "\n",
    "The circuit depth of Shor’s algorithm scales quadratically with the key size, and at this scale, execution would demand **trillions of sequential quantum gate operations**—orders of magnitude beyond the **coherence times of existing devices** (IBM's best hardware has a coherence time of **400 microseconds**). In addition, the total energy expenditure for such a computation has been estimated in the **tens of megawatt-hours**, comparable to the continuous operation of a small industrial facility.\n",
    "\n",
    "In summary, while RSA is theoretically vulnerable to quantum factorization, the hardware required to execute such an attack does not yet exist. Present-day quantum computers remain **millions of qubits** and several technological breakthroughs away from posing a realistic threat to widely used cryptographic key sizes.\n"
   ]
  },
  {
   "cell_type": "markdown",
   "id": "d59315e8-473e-4ba9-b171-84ebb2d6de42",
   "metadata": {},
   "source": [
    "### Classical methods such as Elliptic Curve Cryptography cannot be crack by quantum computers (yet)"
   ]
  },
  {
   "cell_type": "markdown",
   "id": "5a8426e4-026f-4347-a3a5-41ac5d6b8914",
   "metadata": {},
   "source": [
    "#### Elliptic Curve Cryptography (ECC)\n",
    "\n",
    "ECC is based on the algebraic structure of **elliptic curves over finite fields**. The main idea is that while it is easy to perform certain operations (point addition and scalar multiplication), it is **computationally hard to invert them**, a problem known as the **elliptic curve discrete logarithm problem (ECDLP)**.\n",
    "\n",
    "A typical elliptic curve over a prime field $\\mathbb{F}_p$ is defined as:\n",
    "\n",
    "$$\n",
    "y^2 \\equiv x^3 + ax + b \\pmod{p}\n",
    "$$\n",
    "\n",
    "with the condition \n",
    "\n",
    "$$\n",
    "4a^3 + 27b^2 \\not\\equiv 0 \\pmod{p}\n",
    "$$\n",
    "\n",
    "to avoid singularities.\n",
    "\n",
    "A **prime field** $\\mathbb{F}_p$ is the set of integers modulo a prime number $p$:\n",
    "\n",
    "$$\n",
    "\\mathbb{F}_p = \\{ 0, 1, 2, \\dots, p-1 \\}\n",
    "$$\n",
    "Let $p = 7$. Then:\n",
    "$$\n",
    "\\mathbb{F}_7 = \\{0, 1, 2, 3, 4, 5, 6\\}\n",
    "$$\n",
    "\n",
    "---\n",
    "\n",
    "#### Steps to Use ECC\n",
    "\n",
    "1. **Define the Curve and Field**  \n",
    "   Choose a prime $p$ and curve parameters $a, b$ that satisfy the curve equation and are secure.\n",
    "\n",
    "2. **Select a Base Point $G$**  \n",
    "   A predefined point $G = (x, y)$ on the curve is selected, called the **generator point**.\n",
    "\n",
    "3. **Key Generation**\n",
    "\n",
    "    - **Private Key**: The private key is a randomly chosen integer $d$ such that $1 \\leq d \\leq n-1$, where $n$ is the **order of the base point** $G$. The order $n$ is the smallest positive integer such that $n \\cdot G = \\mathcal{O}$, where $\\mathcal{O}$ is the **point at infinity**, acting as the “zero” of the elliptic curve group. You can think of the elliptic curve like a **circular track**: starting at $G$, if you keep running $d$ laps (adding $G$ repeatedly), you eventually return to the starting line after $n$ laps. The private key $d$ is like the **number of laps you choose to run**. Even if someone sees your final position $Q$ on the track, figuring out exactly how many laps you ran (the value of $d$) is extremely hard — this is what keeps ECC secure.\n",
    "      \n",
    "    - **Public Key**: The public key is a point $Q$ on the curve, computed as $$ Q = d \\cdot G $$ using **scalar multiplication**, which is repeated addition of the point $G$ to itself $d$ times. For example, $2 \\cdot G = G + G$, $3 \\cdot G = G + G + G$, and so on. This is the core operation: repeatedly adding a point to itself efficiently using double-and-add. Scalar multiplication is computationally easy in the forward direction, but given $Q$ and $G$, it is extremely hard to determine $d$ — this is the **elliptic curve discrete logarithm problem (ECDLP)**. This asymmetry is what makes ECC secure: the private key $d$ allows you to generate the public key $Q$, but deriving $d$ from $Q$ without knowing it is computationally infeasible.\n"
   ]
  },
  {
   "cell_type": "code",
   "execution_count": 34,
   "id": "11833358-27bd-446f-b004-868fc15472a1",
   "metadata": {},
   "outputs": [],
   "source": [
    "def point_add(P, Q):\n",
    "    # Add two points P and Q on the elliptic curve\n",
    "\n",
    "    if P is None:\n",
    "        return Q  # If P is the point at infinity, return Q\n",
    "    if Q is None:\n",
    "        return P  # If Q is the point at infinity, return P\n",
    "\n",
    "    x1, y1 = P\n",
    "    x2, y2 = Q\n",
    "\n",
    "    if P == Q:\n",
    "        # Point doubling case\n",
    "        if y1 == 0:\n",
    "            return None  # Tangent is vertical, result is point at infinity\n",
    "        # Slope of tangent line at P\n",
    "        m = (3*x1**2 + a) * pow(2*y1, -1, p) % p\n",
    "    else:\n",
    "        if x1 == x2:\n",
    "            return None  # Vertical line, result is point at infinity\n",
    "        # Slope of line connecting P and Q\n",
    "        m = (y2 - y1) * pow(x2 - x1, -1, p) % p\n",
    "\n",
    "    # Compute the resulting point coordinates\n",
    "    x3 = (m**2 - x1 - x2) % p\n",
    "    y3 = (m*(x1 - x3) - y1) % p\n",
    "\n",
    "    return (x3, y3)  # Return the sum point\n",
    "\n",
    "def scalar_mult(k, P):\n",
    "    # Multiply point P by integer k using double-and-add method\n",
    "\n",
    "    R = None  # Initialize result as point at infinity\n",
    "    addend = P  # Start with the initial point\n",
    "\n",
    "    while k:\n",
    "        if k & 1:\n",
    "            R = point_add(R, addend)  # Add current addend if lowest bit of k is 1\n",
    "        addend = point_add(addend, addend)  # Double the point for next bit\n",
    "        k >>= 1  # Shift k to process next bit\n",
    "\n",
    "    return R  # Return the resulting point k*P\n"
   ]
  },
  {
   "cell_type": "code",
   "execution_count": 35,
   "id": "4bda4f19-f42b-455c-ac22-1ac62f0ae046",
   "metadata": {},
   "outputs": [
    {
     "name": "stdout",
     "output_type": "stream",
     "text": [
      "Private key d = 3\n",
      "Public key Q = (80, 87)\n"
     ]
    }
   ],
   "source": [
    "# --- Step 1: Define the Curve and Field ---\n",
    "# Curve: y^2 = x^3 + ax + b over F_p\n",
    "p = 97         # prime field\n",
    "a = 2\n",
    "b = 3\n",
    "\n",
    "# --- Step 2: Select a Base Point G ---\n",
    "G = (3, 6)     # generator point\n",
    "\n",
    "# --- Step 3: Key Generation ---\n",
    "\n",
    "# Private key: random integer d\n",
    "n = 5  # Example small order for demonstration\n",
    "d = random.randint(1, n-1)\n",
    "print(\"Private key d =\", d)\n",
    "\n",
    "# Public key: Q = d * G\n",
    "Q = scalar_mult(d, G)\n",
    "print(\"Public key Q =\", Q)\n"
   ]
  },
  {
   "cell_type": "markdown",
   "id": "6c92698a-3054-4e0e-92b0-bc9405f787a8",
   "metadata": {},
   "source": [
    "Elliptic Curve Cryptography (ECC) relies on the difficulty of finding an integer $k$ given a point $P$ and $Q = kP$ on the curve, a problem that is currently intractable for both classical and quantum computers with available resources. Even optimistic projections for quantum hardware capable of breaking RSA-2048 would be insufficient to compromise standard ECC key sizes, such as 256-bit or 384-bit curves, due to the exponential growth of the problem in terms of required qubits and quantum gate operations.  \n",
    "\n",
    "While quantum algorithms like Shor’s algorithm can theoretically solve discrete logarithms, implementing them for elliptic curves at cryptographically relevant key sizes would require **millions of logical qubits and trillions of gate operations**, far beyond the capabilities of existing or near-term quantum hardware. Consequently, ECC remains a **practical and quantum-resistant choice** for secure communications today, providing strong security with relatively small key sizes compared to classical schemes like RSA, and is often considered a preferred alternative to RSA until sufficiently large-scale fault-tolerant quantum computers become available."
   ]
  },
  {
   "cell_type": "markdown",
   "id": "7893f131-98bc-4481-a582-715df24adce3",
   "metadata": {},
   "source": [
    "### Quantum Cryptography based on superposition and entanglement (Bell's Pairs)"
   ]
  },
  {
   "cell_type": "markdown",
   "id": "1182bc09-e746-44c0-93fb-2e1a7dc883c0",
   "metadata": {},
   "source": [
    "Try to remember the 2 controversial properties of quantum mechanics entanglement and superposition. By combining superposition and entanglement, we can create entirely new ways to encode and transmit information securely, forming the basis for next-generation cryptography that is much safer than classical methods. Do you have an idea on how to do it ? Not yet ? Let me break it down for you.\n",
    "\n",
    "Imagine that the information we are sharing is in a superposition of states, meaning it can hold multiple possibilities at the same time. If we then entangle this information with another particle, we create a strong link between them. Entanglement allows for secure communication because if anyone tries to measure one of the entangled particles, the connection is disturbed, instantly revealing the presence of an eavesdropper.\n",
    "\n",
    "We are going to see both superpostion and entanglement in action in what we call Bell's Pairs. A **Bell pair** is a pair of qubits that are prepared in a specific **maximally entangled state**. In a Bell pair, the qubits are so strongly correlated that the measurement of one qubit immediately determines the state of the other, regardless of the distance between them. This entanglement is a purely quantum phenomenon that has no classical equivalent.\n",
    "\n",
    "To create a Bell pair, we typically perform two operations on two qubits initialized in the state $|00\\rangle$:\n",
    "\n",
    "1. Apply a **Hadamard gate** $H$ to the first qubit. This puts it into a superposition:\n",
    "\n",
    "2. Apply a **CNOT (controlled-NOT) gate** with the first qubit as the control and the second qubit as the target. This entangles the two qubits in the resulting state :\n",
    "\n",
    "$$\n",
    "|\\Phi^+\\rangle = \\frac{|00\\rangle + |11\\rangle}{\\sqrt{2}}\n",
    "$$\n",
    "\n",
    "This makes the states $|00\\rangle$ and $|11\\rangle$ equally likely."
   ]
  },
  {
   "cell_type": "markdown",
   "id": "3b322ee4-e1a8-4994-afa6-c1fb3a58290c",
   "metadata": {},
   "source": [
    "Implement a circuit to create a bell's pair (don't forget to measure the final state)"
   ]
  },
  {
   "cell_type": "code",
   "execution_count": 36,
   "id": "b191227c-ff0a-4b99-b2c5-87e42173b758",
   "metadata": {},
   "outputs": [],
   "source": [
    "qc = QuantumCircuit(2)\n",
    "qc.h(0)\n",
    "qc.cx(0,1)\n",
    "qc.measure_all()"
   ]
  },
  {
   "cell_type": "code",
   "execution_count": 37,
   "id": "d5d4ee02-bf90-4ca6-9a38-8230f2695068",
   "metadata": {},
   "outputs": [
    {
     "data": {
      "image/png": "[encoded data removed]",
      "text/plain": [
       "<Figure size 640x480 with 1 Axes>"
      ]
     },
     "execution_count": 37,
     "metadata": {},
     "output_type": "execute_result"
    }
   ],
   "source": [
    "counts = run_quantum_circuit(qc, 1000)\n",
    "plot_histogram(counts)"
   ]
  },
  {
   "cell_type": "code",
   "execution_count": null,
   "id": "380284c1-6cc4-4ecc-bcf4-5e9ff5a408de",
   "metadata": {},
   "outputs": [],
   "source": []
  }
 ],
 "metadata": {
  "kernelspec": {
   "display_name": "Python 3 (ipykernel)",
   "language": "python",
   "name": "python3"
  },
  "language_info": {
   "codemirror_mode": {
    "name": "ipython",
    "version": 3
   },
   "file_extension": ".py",
   "mimetype": "text/x-python",
   "name": "python",
   "nbconvert_exporter": "python",
   "pygments_lexer": "ipython3",
   "version": "3.13.7"
  }
 },
 "nbformat": 4,
 "nbformat_minor": 5
}
