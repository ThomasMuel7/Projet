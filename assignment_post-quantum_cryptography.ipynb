{
 "cells": [
  {
   "cell_type": "code",
   "execution_count": 1,
   "id": "77d9c9e1-e0b9-4e34-80f0-832171f2f352",
   "metadata": {
    "vscode": {
     "languageId": "plaintext"
    }
   },
   "outputs": [
    {
     "ename": "ModuleNotFoundError",
     "evalue": "No module named 'sympy'",
     "output_type": "error",
     "traceback": [
      "\u001b[31m---------------------------------------------------------------------------\u001b[39m",
      "\u001b[31mModuleNotFoundError\u001b[39m                       Traceback (most recent call last)",
      "\u001b[36mCell\u001b[39m\u001b[36m \u001b[39m\u001b[32mIn[1]\u001b[39m\u001b[32m, line 3\u001b[39m\n\u001b[32m      1\u001b[39m \u001b[38;5;28;01mimport\u001b[39;00m\u001b[38;5;250m \u001b[39m\u001b[34;01mmath\u001b[39;00m\n\u001b[32m      2\u001b[39m \u001b[38;5;28;01mimport\u001b[39;00m\u001b[38;5;250m \u001b[39m\u001b[34;01mrandom\u001b[39;00m\n\u001b[32m----> \u001b[39m\u001b[32m3\u001b[39m \u001b[38;5;28;01mfrom\u001b[39;00m\u001b[38;5;250m \u001b[39m\u001b[34;01msympy\u001b[39;00m\u001b[38;5;250m \u001b[39m\u001b[38;5;28;01mimport\u001b[39;00m isprime, legendre_symbol, gcd\n\u001b[32m      4\u001b[39m \u001b[38;5;28;01mimport\u001b[39;00m\u001b[38;5;250m \u001b[39m\u001b[34;01mnumpy\u001b[39;00m\u001b[38;5;250m \u001b[39m\u001b[38;5;28;01mas\u001b[39;00m\u001b[38;5;250m \u001b[39m\u001b[34;01mnp\u001b[39;00m\n\u001b[32m      5\u001b[39m \u001b[38;5;28;01mimport\u001b[39;00m\u001b[38;5;250m \u001b[39m\u001b[34;01mtime\u001b[39;00m\n",
      "\u001b[31mModuleNotFoundError\u001b[39m: No module named 'sympy'"
     ]
    }
   ],
   "source": [
    "import math\n",
    "import random\n",
    "from sympy import isprime, legendre_symbol, gcd\n",
    "import numpy as np\n",
    "import time"
   ]
  },
  {
   "cell_type": "markdown",
   "id": "e1c55b55-e8cf-4352-995d-78981e011785",
   "metadata": {},
   "source": [
    "# Post Quantum Cryptography\n"
   ]
  },
  {
   "cell_type": "markdown",
   "id": "44a74313-2e92-46ca-b963-a34f79a43496",
   "metadata": {},
   "source": [
    "# I) What is RSA ?"
   ]
  },
  {
   "cell_type": "markdown",
   "id": "c4dd3f79-5bde-433d-8ff6-ed45d0827dca",
   "metadata": {},
   "source": [
    "## a) Math Introduction (base of the algorithm -> Factorisation of prime numbers)\n"
   ]
  },
  {
   "cell_type": "markdown",
   "id": "e814b805-fe62-4737-8a76-baba09682f29",
   "metadata": {},
   "source": [
    "---\n",
    "#### First of all let's introduce some math aspects. The factorisation in prime numbers is one of the key concepts of RSA. \n",
    "#### What's a Prime number : A prime number is an integer greater than 1 that has only two divisors: 1 and itself. Examples: 2, 3, 5, 7, 11, 13,\n",
    "#### Let's now speak about prime factorisation : Every integer can be written as a product of prime numbers and it's called prime factorization.\n",
    "#### Some key examples : 28 = 2 × 2 × 7 = 2² × 7 or 91 = 7 × 13\n",
    "#### This factorization is unique (apart from the order). This is the fundamental theorem of arithmetic.\n",
    "---"
   ]
  },
  {
   "cell_type": "markdown",
   "id": "2a9c5b00-3d49-4945-b201-d1ae8a1c6fb2",
   "metadata": {},
   "source": [
    "## b) Presentation of RSA (History)"
   ]
  },
  {
   "cell_type": "markdown",
   "id": "c2b643f7-ed1c-406e-b34f-95c4c85006f5",
   "metadata": {},
   "source": [
    "----\n",
    "#### Before the 1970s, all cryptography relied on shared secret keys (symmetric encryption). But this raised a major problem: how could the secret key be exchanged securely if enemies were listening?\n",
    "#### In response to it, in 1976, Whitfield Diffie and Martin Hellman published New Directions in Cryptography by introducing the idea of a public key to encrypt and a private key to decrypt so no need to secretly exchange keys in advance.\n",
    "#### Building on this, researchers realized that multiplying two large prime numbers was a simple task, whereas factoring their product back into its prime components was extremely difficult.\n",
    "#### This property, known as a “one-way function,” provided exactly the mathematical foundation needed for a secure encryption system. In 1977, Rivest, Shamir, and Adleman transformed this insight into a practical algorithm, which became known as RSA, named after their initials.\n",
    "---"
   ]
  },
  {
   "cell_type": "markdown",
   "id": "91f6b5b2-5699-446c-b802-b54009e80e3e",
   "metadata": {},
   "source": [
    "## c) Implementation of RSA (Algorithm)"
   ]
  },
  {
   "cell_type": "markdown",
   "id": "772fcc9e-c3f5-40fb-b6aa-a49ff8c644e4",
   "metadata": {},
   "source": [
    "The first step is the ***Key Generation*** : \n",
    "1) Choose two prime numbers, p and q, and compute the number n = pq.\n",
    "- *n will be the modulus which will be used in both the public and private key.* \n",
    "- *The **key length** is the length of n in bits (for example 2048 bits, which is a common recommanded key length).* \n",
    "- *It is important to keep p and q secret since computing the value of n will allow anyone to \"break\" your encrypted messages.*\n",
    "2) Then, compute the value _φ_(n) = (p-1)(q-1)\n",
    "- *_φ_(n) is known as the Euler's totient function that counts the positive integers up to a given integer n that are relatively prime to n.*\n",
    "- *The RSA algorithm correctness can be proved using Euler's theorem (see below)*\n",
    "3) Choose a number e, such that 1 < e < _φ_(n) and e must be coprime with _φ_(n) (meaning gcd(e, _φ_(n)) = 1)\n",
    "- *e is called the public exponent. It is part of the public key.*\n",
    "- *The Public Key is the pair of values (n, e).*\n",
    "4) Finally, determine d as d  ≡  $e^{-1}$  (mod  _φ_(_n_))\n",
    "- *d is the private key (sometimes the Private Key is also written as the pair of values (n, d))*\n",
    "- *d is the modular multiplicative inverse of e (modulo _φ_(n))*\n",
    "\n",
    "Now we got our public and private keys ! We can now use them to encrypt or decrypt a message.\n",
    "\n",
    "***Encrypt*** :\n",
    "Assuming you want to communicate a message M, you must first ensure that M is an integer and that 0 ≤ M < n.\n",
    "Then, you can compute the encrypted message C with :\n",
    "$C \\equiv M^{e} \\pmod{n}$ \n",
    "(Note that the value of C will be  strictly less than n, since it's the modulus)\n",
    "\n",
    "***Decrypt*** : \n",
    "To decrypt the ciphertext C, you now use the same kind of computation using the private key d : \n",
    "$M \\equiv C^{d} \\pmod{n}$ \n",
    "\n",
    "\n",
    "***Proof of correctness with Euler's Theorem :***\n",
    "\n",
    "The RSA Algorithm \"works\" because we can proove using Euler's Theorem that any encrypted message M can be decrypted to recover the exact same M.\n",
    "\n",
    "The Euler's theorem states that given any integer *n* > 0 and any integer *a* coprime with n we have :\n",
    "$a^{(φ(n)) }$  ≡  1  (mod  n)\n",
    "\n",
    "In RSA, the number *a* is actually our message M but since we built n to be a product of p and q, there are high chances that M is coprime with n. (If not, the algorithm works anyway but uses another proof with Fermat's little theorem)\n",
    "\n",
    "Now, when we want to decrypt C (which is $M^{e}$), we do $C^{d}$ = $M^{ed}$.\n",
    "\n",
    "Since we built *d* to be the modular multiplicative inverse of *e* (mod _φ_(n)) we have : ed ≡  1  (mod  _φ_(n)) <=> ed = 1 + kφ(_n_).\n",
    "\n",
    "Then the proof is : $M^{ed}$ ≡ $M^{1 + kφ(n)}$ ≡ $M * M^{kφ(n)}$ ≡ $M*1^{k}$ ≡ $M$ (mod n)\n",
    "\n",
    "We demonstrated that our private key *d* can be used to decrypt C and recover the original message M ! \n",
    "\n",
    "***Here is a quick implementation in Python of RSA, following the steps mentionned above :***"
   ]
  },
  {
   "cell_type": "code",
   "execution_count": 2,
   "id": "b16e7c06-d55c-4ca8-b82c-31990b401858",
   "metadata": {},
   "outputs": [
    {
     "ename": "NameError",
     "evalue": "name 'gcd' is not defined",
     "output_type": "error",
     "traceback": [
      "\u001b[31m---------------------------------------------------------------------------\u001b[39m",
      "\u001b[31mNameError\u001b[39m                                 Traceback (most recent call last)",
      "\u001b[36mCell\u001b[39m\u001b[36m \u001b[39m\u001b[32mIn[2]\u001b[39m\u001b[32m, line 54\u001b[39m\n\u001b[32m     51\u001b[39m     M = \u001b[38;5;28mpow\u001b[39m(c, d, n) \n\u001b[32m     52\u001b[39m     \u001b[38;5;28;01mreturn\u001b[39;00m M\n\u001b[32m---> \u001b[39m\u001b[32m54\u001b[39m public, private = \u001b[43mgenerate_keys\u001b[49m\u001b[43m(\u001b[49m\u001b[43m)\u001b[49m\n\u001b[32m     55\u001b[39m \u001b[38;5;28mprint\u001b[39m(\u001b[33m\"\u001b[39m\u001b[33mPublic Key :\u001b[39m\u001b[33m\"\u001b[39m, public)\n\u001b[32m     56\u001b[39m \u001b[38;5;28mprint\u001b[39m(\u001b[33m\"\u001b[39m\u001b[33mPrivate Key :\u001b[39m\u001b[33m\"\u001b[39m, private)\n",
      "\u001b[36mCell\u001b[39m\u001b[36m \u001b[39m\u001b[32mIn[2]\u001b[39m\u001b[32m, line 32\u001b[39m, in \u001b[36mgenerate_keys\u001b[39m\u001b[34m()\u001b[39m\n\u001b[32m     30\u001b[39m \u001b[38;5;66;03m# Step 3 : Choose e that gcd(e, phi) = 1 and 1 < e < phi\u001b[39;00m\n\u001b[32m     31\u001b[39m e = random.randint(\u001b[32m2\u001b[39m, (phi-\u001b[32m1\u001b[39m))\n\u001b[32m---> \u001b[39m\u001b[32m32\u001b[39m \u001b[38;5;28;01mwhile\u001b[39;00m \u001b[43mgcd\u001b[49m(e, phi) != \u001b[32m1\u001b[39m:\n\u001b[32m     33\u001b[39m     e = random.randint(\u001b[32m2\u001b[39m, (phi-\u001b[32m1\u001b[39m))\n\u001b[32m     35\u001b[39m \u001b[38;5;66;03m# Step 4 : Compute d, the modular multiplicative inverse of e (we can use python pow() function)\u001b[39;00m\n",
      "\u001b[31mNameError\u001b[39m: name 'gcd' is not defined"
     ]
    }
   ],
   "source": [
    "#Using math, we know that a number n is prime if we cannot find any divisor p of n with p  ≤ sqrt(n)\n",
    "def is_prime(num):\n",
    "    if num < 2:\n",
    "        return False\n",
    "    for i in range(2, int(math.sqrt(num)) + 1):\n",
    "        if num % i == 0:\n",
    "            return False\n",
    "    return True\n",
    "\n",
    "#This function will generate random numbers until a prime number is generated\n",
    "def generate_prime_number(low, high):\n",
    "    while True:\n",
    "        p = random.randint(low, high)\n",
    "        if is_prime(p):\n",
    "            return p\n",
    "\n",
    "# Key Generation\n",
    "def generate_keys():\n",
    "    # Step 1 : Choose p and q, prime numbers, and compute n\n",
    "    p = generate_prime_number(100, 300)  \n",
    "    q = generate_prime_number(100, 300)\n",
    "    while q == p:\n",
    "        q = generate_prime_number(100, 300)\n",
    "    \n",
    "    n = p*q\n",
    "\n",
    "    # Step 2 : Compute phi = (p-1)*(q-1)\n",
    "    phi = (p-1)*(q-1)\n",
    "\n",
    "    # Step 3 : Choose e that gcd(e, phi) = 1 and 1 < e < phi\n",
    "    e = random.randint(2, (phi-1))\n",
    "    while gcd(e, phi) != 1:\n",
    "        e = random.randint(2, (phi-1))\n",
    "    \n",
    "    # Step 4 : Compute d, the modular multiplicative inverse of e (we can use python pow() function)\n",
    "    d = pow(e, -1, phi) \n",
    "\n",
    "    public_key = (n, e)\n",
    "    private_key = (n, d)\n",
    "    return public_key, private_key\n",
    "\n",
    "# Encrypting\n",
    "def encrypt(m, public_key):\n",
    "    n, e = public_key\n",
    "    C = pow(m, e, n) #Using the definition of C above, we can use once again the pow() function to calculate the power with modulo\n",
    "    return C\n",
    "\n",
    "# Decrypting\n",
    "def decrypt(c, private_key):\n",
    "    n, d = private_key\n",
    "    M = pow(c, d, n) \n",
    "    return M\n",
    "\n",
    "public, private = generate_keys()\n",
    "print(\"Public Key :\", public)\n",
    "print(\"Private Key :\", private)\n",
    "\n",
    "message = 12 #Test message for example (for text, we will have to convert it to integers first)\n",
    "\n",
    "C = encrypt(message, public)\n",
    "print(\"Encrypted message :\", C)\n",
    "\n",
    "M = decrypt(C, private)\n",
    "print(\"Decrypted message :\", M)"
   ]
  },
  {
   "cell_type": "markdown",
   "id": "f73912b4-6fce-4eea-a6fb-b6b3fc10b099",
   "metadata": {},
   "source": [
    "## II) Can we crack RSA ?"
   ]
  },
  {
   "cell_type": "markdown",
   "id": "f56744ad-989b-4486-ab9e-dd0d2a8135a8",
   "metadata": {},
   "source": [
    "As you have seen before, factoring is very important in the field of cryptography, specifically in the RSA cryptosystem. \n",
    "\n",
    "The security of this system relies on the fact that our classical computers are not able to find (because it is hard and it is a computationally intensive task) the 2 factors of large composite numbers. \n",
    "\n",
    "Researchers have tried for many years to tackle this problem and, although they have developed increasingly sophisticated factoring algorithms (such as Pollard’s rho, the elliptic curve method, and the Number Field Sieve), these methods still require resources that grow so quickly with key size that properly chosen RSA moduli remain secure against practical classical attacks. \n",
    "\n",
    "In this part of the lab we will try to crack RSA by factoring large numbers and explore the practical limits of classical factoring techniques."
   ]
  },
  {
   "cell_type": "markdown",
   "id": "0f94fd11-2ba2-4452-b6a5-b131ccf7f7f3",
   "metadata": {},
   "source": [
    "Firstly, let's try to brute force RSA"
   ]
  },
  {
   "cell_type": "markdown",
   "id": "19f9083d-513a-4aa4-8751-e50168d51ebb",
   "metadata": {
    "jp-MarkdownHeadingCollapsed": true
   },
   "source": [
    "### Brute Force\n",
    "---\n",
    "Let $n = p q$ be the RSA modulus (product of two prime numbers $p$ and $q$) and let $L$ be the bit-length of $n$.  \n",
    "There are two main brute-force approaches that could, in theory, recover the private key:\n",
    "\n",
    "1. **Factorizing $n$**: recover $p$ and $q$ from $n$. Once $p$ and $q$ are known, compute  \n",
    "   $$\\varphi(n) = (p-1)(q-1)$$  \n",
    "   and then the inverse $d$ of the public exponent $e$ modulo $\\varphi(n)$, such that $d e \\equiv 1 \\pmod{\\varphi(n)}$.\n",
    "2. **Directly attacking $d$**: search for $d$ without explicitly factoring $n$ (for example, by exhaustively testing possible candidates for $d$ and checking their validity).\n",
    "\n",
    "---\n",
    "\n",
    "#### *Algorithm 1 — Exhaustive search of the private exponent $d$*\n",
    "**Description.** Iterate over all possible values of $d$, and for each candidate, verify whether it is the modular inverse of $e$ (if $\\varphi(n)$ is known), or attempt a test decryption and check the result.  \n",
    "**Search space.** $1 \\le d \\le \\varphi(n)$.  \n",
    "**Complexity.** The number of trials is $\\Theta(\\varphi(n)) \\approx \\Theta(n)$. In terms of bit-length $L$:  \n",
    "$$\\Theta(2^{L})$$  \n",
    "**Remark.** This is the most expensive brute-force approach and becomes infeasible as soon as $L$ is even moderately large.\n",
    "\n",
    "---\n",
    "\n",
    "#### *Algorithm 2 — Naïve factor search (test all integers $1,\\dots,n$)*\n",
    "**Description.** Test each integer $k \\in \\{1,\\dots,n\\}$ (or more efficiently, each prime number) to check if it divides $n$.  \n",
    "**Complexity.** $\\Theta(n) = \\Theta(2^{L})$.  \n",
    "**Remark.** The search stops as soon as a non-trivial factor $p$ is found, but the order of magnitude remains astronomically high.\n",
    "\n",
    "---\n",
    "\n",
    "#### *Algorithm 3 — Trial division up to $\\sqrt{n}$*\n",
    "**Description.** Test all integers (or preferably all prime numbers) $k$ such that $2 \\le k \\le \\lfloor \\sqrt{n} \\rfloor$. As soon as one divisor is found, we obtain the factorization $n = k \\cdot (n/k)$.  \n",
    "**Justification.** If $n$ is composite, it necessarily has at least one non-trivial factor less than or equal to $\\sqrt{n}$.  \n",
    "**Complexity.** The number of trials is $\\Theta(\\sqrt{n})$. In terms of bit-length $L$:  \n",
    "$$\\Theta(2^{L/2})$$  \n",
    "**Remark.** This is the best asymptotic complexity achievable under a purely exhaustive brute-force approach (without using advanced algebraic structure). However, it still grows exponentially in $L$.\n",
    "\n",
    "---\n",
    "\n",
    "### General Observations\n",
    "\n",
    "Even with the improvement of restricting the search space to $\\sqrt{n}$, the effort remains exponential in the bit-length $L$: the best brute-force complexity achievable is $\\Theta(2^{L/2})$.  \n",
    "Therefore, these methods are not feasible in real time for modern key sizes (e.g., $L \\ge 2048$).\n",
    "\n",
    "---\n",
    "\n",
    "### Conclusion\n",
    "\n",
    "- There are essentially two brute-force families: (1) factorizing $n$ to recover $p,q$ and then $d$, and (2) directly searching for $d$.  \n",
    "- Naïve methods yield $\\Theta(2^{L})$ complexity. The best brute-force approach (trial division up to $\\sqrt{n}$) achieves $\\Theta(2^{L/2})$.  \n",
    "- All these methods remain exponential in $L$ and are therefore impractical for standard RSA key sizes.\n"
   ]
  },
  {
   "cell_type": "markdown",
   "id": "2fc53172-8a2a-481a-8cac-158e8d6ae727",
   "metadata": {},
   "source": [
    "---\n",
    "### Implementation of brute force algorithm"
   ]
  },
  {
   "cell_type": "code",
   "execution_count": 3,
   "id": "6d10f132-b20e-4f29-ada5-4d5ed62c7737",
   "metadata": {},
   "outputs": [
    {
     "name": "stdout",
     "output_type": "stream",
     "text": [
      "Found the 2 factors : 13, 17 in 0.00011181831359863281 seconds\n"
     ]
    }
   ],
   "source": [
    "n = 221\n",
    "end_time = 0\n",
    "start_time = time.time()\n",
    "for i in range(2, n//2):\n",
    "    if n%i == 0:\n",
    "        end_time = time.time()\n",
    "        print(f\"Found the 2 factors : {i}, {n//i} in {end_time - start_time} seconds\")\n",
    "        break\n",
    "if not end_time : \n",
    "    print(\"n is prime\")"
   ]
  },
  {
   "cell_type": "markdown",
   "id": "9f168d89-1ef0-495d-8db4-98b0b103a274",
   "metadata": {},
   "source": [
    "#### Brute-Force RSA Cracking Timeline\n",
    "\n",
    "| RSA key size (bits) | Total possibilities | Estimated time (1 GHz CPU) |\n",
    "|-------------------|------------------|---------------------------|\n",
    "| 128               | ~3.4×10³⁸        | ~10¹² years              |\n",
    "| 256               | ~1.2×10⁷⁷        | ~10⁵¹ years              |\n",
    "| 512               | ~1.3×10¹⁵⁴       | ~10¹²⁸ years             |\n",
    "| 1024              | ~1.8×10³⁰⁸       | ~10²⁸² years             |\n",
    "| 2048              | ~3.2×10⁶¹⁵       | ~10⁵⁸⁹ years             |\n",
    "| 4096              | ~1.3×10¹²³⁰      | ~10¹²⁰⁴ years            |\n"
   ]
  },
  {
   "cell_type": "markdown",
   "id": "2ee6d653-ec59-40ce-990a-dca7d8395cdc",
   "metadata": {},
   "source": [
    "### The GNFS Algorithm"
   ]
  },
  {
   "cell_type": "markdown",
   "id": "67da0984-f487-4eaf-9f3f-1d5bf05fd683",
   "metadata": {},
   "source": [
    "#### Story of the GNFS"
   ]
  },
  {
   "cell_type": "markdown",
   "id": "8c7175bb-7554-4dcc-9346-6637918b4ec7",
   "metadata": {},
   "source": [
    "The General Number Field Sieve (GNFS) is the most efficient classical algorithm known for factoring large integers larger than $10^{100}$. Its history traces the evolution of computational number theory and reflects decades of research aimed at understanding the limits of public-key cryptography, particularly RSA.\n",
    "\n",
    "The origins of the method go back to the 1980s, when John Pollard introduced the Number Field Sieve for a very special class of integers known as Cunningham numbers. Building on this idea, Arjen Lenstra, Hendrik Lenstra, Mark Manasse, and John Pollard generalized the approach in the early 1990s, creating the algorithm now known as the GNFS. This breakthrough provided, for the first time, a sub-exponential algorithm that could factor arbitrary large integers more efficiently than the Quadratic Sieve, which had been the previous state of the art.\n",
    "\n",
    "From that point forward, GNFS became the central tool in record-setting factorizations. In 1994, it was used to factor RSA-129, a 129-digit number (426 bits) made famous by Martin Gardner’s challenge in Scientific American. Over the following decades, GNFS was refined and scaled up through distributed computing efforts and advances in algorithm engineering. Notable milestones include the factorization of RSA-768 (232 digits) in 2009, RSA-240 (795 bits) in 2019, and RSA-250 in 2020. Each of these achievements pushed the limits of available hardware and demonstrated both the power of GNFS and the ongoing need to increase RSA key sizes.\n",
    "\n",
    "Today, GNFS remains the gold standard for classical integer factorization. Its history underscores the constant interplay between mathematical innovation and computational progress, and it provides the foundation for our understanding of how secure RSA remains in the face of classical attacks."
   ]
  },
  {
   "cell_type": "markdown",
   "id": "cc51d0b3-8b26-4c89-8396-afadf54735ee",
   "metadata": {},
   "source": [
    "#### The algorithm"
   ]
  },
  {
   "cell_type": "markdown",
   "id": "872a299b-befd-403c-b5a1-09e6cc4f899e",
   "metadata": {},
   "source": [
    "**I hope you are ready and you have fastened your seatbelts, because it isn't an easy algorithm to understand!**\n",
    "We will be working through a specific numerical example to illustrate each concept along the way.\n",
    "\n",
    "---\n",
    "\n",
    "##### Step 0: Preliminary Idea – Difference of Squares\n",
    "\n",
    "**Principle:** If we can find integers $s$ and $r$ such that:\n",
    "$s^2 \\equiv r^2 \\pmod{n}$\n",
    "then:\n",
    "$n$ divides $(s - r)(s + r)$\n",
    "\n",
    "**Factor extraction:** Let $n = p \\cdot q$ (product of two primes). Then at least one of the following is a nontrivial factor of $n$ with high probability ($\\sim 2/3$):\n",
    "$\\gcd(s + r, n)$ or $\\gcd(s - r, n)$\n",
    "\n",
    "*gcd meaning the greatest common divisor*\n",
    "\n",
    "**Core idea of GNFS:** Reduce factoring $n$ to finding a congruence of squares modulo $n$:\n",
    "$s^2 \\equiv r^2 \\pmod{n} \\Rightarrow$ potential factorization via gcd.\n",
    "\n",
    "***\n",
    "\n",
    "##### Step 1: Choose $m$ and $f(x)$\n",
    "\n",
    "We start by picking an integer $m$ close to $n^{1/d}$, where $d$ is the degree of the polynomial we want to construct. Using the base-$m$ expansion of $n$:\n",
    "$$n = a_d m^d + a_{d-1} m^{d-1} + \\dots + a_0$$we define the polynomial$$f(x) = a_d x^d + a_{d-1} x^{d-1} + \\dots + a_0$$\n",
    "so that $f(m) \\equiv 0 \\pmod{n}$. This polynomial encodes $n$ in a way that allows us to later find algebraic numbers whose squares are congruent modulo $n$, which is key to factorization.\n",
    "\n",
    "**Implementation detail:** The base-$m$ expansion provides an easy way to construct a polynomial $f(x)$ with integer coefficients where $f(m)=n$. This ensures the crucial congruence $f(m) \\equiv 0 \\pmod n$ holds, which is a fundamental requirement for the mapping $\\phi$ used later in the algorithm. For example, to factor $n=45113$, we can choose $m=31$ and use its base-31 expansion: $45113 = 1 \\cdot 31^3 + 15 \\cdot 31^2 + 29 \\cdot 31 + 8$. From this, we can define the polynomial $f(x) = x^3 + 15x^2 + 29x + 8$.\n",
    "\n",
    "***\n",
    "\n",
    "##### Step 2: Define the rational factor base $R$\n",
    "\n",
    "Next, we select a finite set of small prime numbers $R = \\{p_1, p_2, \\dots, p_k\\}$. This **rational factor base** will be used to check if certain integers are “smooth,” meaning they factor completely over these primes. Working with smooth numbers ensures that we can later represent them as vectors for linear algebra over $\\mathbb{F}_2$. $\\mathbb{F}_2$ is a mathematical term that refers to the finite field with two elements. In simpler terms, it's a number system that only contains the numbers 0 and 1.\n",
    "\n",
    "**Implementation detail:** The rational factor base is a collection of prime numbers. For practical purposes, it is often a set of small, consecutive primes up to a certain bound $M$, such as $R = \\{p: \\text{p is prime and } p \\le M\\}$. For the example of factoring $n=45113$, the rational factor base was chosen as all primes less than 30: $R = \\{2, 3, 5, 7, 11, 13, 17, 19, 23, 29\\}$. An integer $l$ is considered \"smooth\" over $R$ if all of its prime divisors are in $R$. This is a core concept that allows us to convert the factorization problem into a linear algebra problem over $\\mathbb{F}_2$.\n",
    "\n",
    "***\n",
    "\n",
    "##### Step 3: Define the algebraic factor base $A$\n",
    "\n",
    "In the first step, we built a list of small prime numbers to act as our \"factoring toolkit\" for regular integers. In this step, we're doing the same thing, but for a new, abstract number system.\n",
    "\n",
    "Imagine we're not just working with numbers anymore, but with a new kind of \"number plant\" that has sprouted from our polynomial. These \"number plants\" are called **algebraic numbers**, and they look like $a + b\\theta$. We need a way to factor these new \"plants,\" so we create an **algebraic factor base**, which is our toolkit of special \"algebraic prime seeds\" for this new number system.\n",
    "\n",
    "We identify these \"prime seeds\" as pairs of regular numbers, $(r_i, p_i)$, that satisfy a specific condition: when you plug $r_i$ into our original polynomial, the result is divisible by the prime $p_i$ (i.e., $f(r_i) \\equiv 0 \\pmod{p_i}$). This clever trick lets us use something we know (our polynomial) to find and categorize these new \"algebraic primes.\"\n",
    "\n",
    "**Implementation detail:** The goal is to find \"number plants\" ($a + b\\theta$) that can be completely factored using only the \"prime seeds\" in our toolkit. We call these numbers \"smooth,\" just as we did with the regular integers. This ensures that the algebraic side of our calculations is manageable and mirrors the integer side, providing two parallel sets of data that will eventually be combined. For example, with $n=45113$, we found our \"prime seeds\" by looking at all primes less than 90 : \n",
    "$A = \\{ (0, 2), (6, 7), (13, 17), (11, 23), ... , (50, 73), (23, 79), (47, 79), (73, 79), (28, 89), (62, 89), (73, 89) \\}$\n",
    "\n",
    "***\n",
    "\n",
    "##### Step 4: Define the quadratic character base $Q$\n",
    "\n",
    "To capture additional congruence information, we choose a set of primes $Q$ not in $A$ and find integers $s$ such that $f(s) \\equiv 0 \\pmod{q}$. This **quadratic character base** helps control certain signs and parity conditions when combining smooth numbers, which is crucial for guaranteeing that the final products will form perfect squares.\n",
    "\n",
    "**Implementation detail:** This base helps verify that an element in $\\mathbb{Z}[\\theta]$ is a perfect square. Each entry in $Q$ is a pair $(s, q)$, where $q$ is a prime not in $A$ and $s$ satisfies $f(s) \\equiv 0 \\pmod q$. These pairs are used to compute the Legendre symbol $\\left(\\frac{a+bs}{q}\\right)$, which acts as a check for squareness. The number of entries in $Q$ can be increased to raise the probability that the final result is a perfect square. For $n=45113$, primes 97, 101, 103, and 107 were used to build $Q$. $Q = \\{(28, 97), (87, 101), (47, 103), (4, 107), (8, 107), (80, 107)\\}$\n",
    "\n",
    "***\n",
    "\n",
    "##### Step 5: Find smooth pairs $(a, b)$\n",
    "\n",
    "We then search for integer pairs $(a, b)$ such that both $a + bm$ and $a + b\\theta$ are smooth over the rational and algebraic factor bases, respectively. By looping over $a$ for fixed $b$ and checking factorability, we collect enough pairs (typically more than $1 + k + l + u$) to ensure the linear system in the next step will have nontrivial solutions. These **smooth pairs** form the building blocks for constructing a congruence of squares.\n",
    "\n",
    "*1+k+l+u represents the total number of columns in the matrix we are building, where 1 is for the sign bit, k is the number of primes in the rational factor base, l is the number of \"algebraic primes\" in the algebraic factor base, and u is the number of primes in the quadratic character base.*\n",
    "\n",
    "**Implementation detail:** This is the core \"sieving\" part of the algorithm. We fix a small integer $b$ and let $a$ vary over a range, for example from $-N$ to $N$. For each pair $(a, b)$, we test if $a+bm$ is smooth over the rational factor base $R$ and if $a+b\\theta$ is smooth over the algebraic factor base $A$. This is done using sieve arrays. An integer $q \\in R$ divides $a+bm$ if $a \\equiv -bm \\pmod q$, while an algebraic factor $(r_i, p_i) \\in A$ divides $a+b\\theta$ if $a \\equiv -br_i \\pmod{p_i}$. We continue this process with different values of $b$ until we have found a sufficient number of smooth pairs, which is typically more than the total number of elements in all three bases ($1+k+l+u$).\n",
    "\n",
    "***\n",
    "\n",
    "##### Step 6: Construct the matrix $X$\n",
    "\n",
    "Each smooth pair $(a, b)$ is represented as a row vector containing the sign of $a + bm$, the exponents of its rational prime factors modulo 2, the exponents of the algebraic factors modulo 2, and any relevant quadratic characters. Stacking these vectors forms a $y \\times (1+k+l+u)$ matrix $X$. This matrix encodes all information necessary to combine smooth numbers into perfect squares.\n",
    "\n",
    "**Implementation detail:** For each smooth pair $(a,b)$, a row vector is created. The first entry is a sign bit (0 for positive $a+bm$, 1 for negative). The next $k$ entries are the exponents of the primes in the rational factor base $R$ from the factorization of $a+bm$, taken modulo 2. The following $l$ entries are the exponents of the algebraic factors from the factorization of $a+b\\theta$, also modulo 2. Finally, the last $u$ entries are derived from the quadratic character base $Q$, representing whether the Legendre symbol $\\left(\\frac{a+bs}{q}\\right)$ is 1 (entry 0) or -1 (entry 1). This vector essentially summarizes the parity of the exponents and the quadratic characters, which is a concise way to check for perfect squares.\n",
    "\n",
    "***\n",
    "\n",
    "##### Step 7: Solve the linear system modulo 2\n",
    "\n",
    "We solve the system\n",
    "$$X^T \\cdot \\mathbf{A} \\equiv 0 \\pmod{2}$$to find subsets of smooth pairs that, when multiplied together, produce a perfect square both in $\\mathbb{Z}$ and in $\\mathbb{Z}[\\theta]$. Let $V \\subset U$ denote the selected subset. By construction:\n",
    "$$\\prod_{(a_j, b_j) \\in V} (a_j + bm) \\text{ is a perfect square in } \\mathbb{Z},$$\n",
    "$$\\prod_{(a_j, b_j) \\in V} (a_j + b_j\\theta) \\text{ is a perfect square in } \\mathbb{Z}[\\theta]$$\n",
    "This gives us the congruence of squares needed to attempt factorization.\n",
    "\n",
    "**Implementation detail:** The matrix equation $X^T \\mathbf{A} \\equiv \\mathbf{0} \\pmod 2$ is a system of linear equations over the field $\\mathbb{F}_2$. The entries of the vector $\\mathbf{A}$ are either 0 or 1, and a non-trivial solution is guaranteed to exist if the number of rows is greater than the number of columns ($y > 1+k+l+u$). Each $A_j=1$ in the solution vector corresponds to including the $j$-th smooth pair $(a_j, b_j)$ in the product. When the vectors corresponding to these pairs are added modulo 2, the result is the zero vector, which means that all exponents (and signs) in the final product are even, a necessary condition for being a perfect square.\n",
    "\n",
    "***\n",
    "\n",
    "##### Step 8: Factor $n$ using the difference of squares\n",
    "\n",
    "Finally, we map the algebraic product back to integers using\n",
    "$$x^2 = \\phi \\left( \\prod_{(a_j, b_j) \\in V} (a_j + b_j\\theta) \\right),$$$$y^2 = \\prod_{(a_j, b_j) \\in V} (a_j + bm)$$and try to extract factors via$$\\gcd(n, x+y) \\quad \\text{and} \\quad \\gcd(n, x-y)$$\n",
    "If a nontrivial factor is found, the algorithm succeeds. Otherwise, we repeat the process with a new factor base or additional smooth pairs. This step exploits the classical “difference of squares” idea: if $s^2 \\equiv r^2 \\pmod{n}$, then $\\gcd(s \\pm r, n)$ often reveals a nontrivial factor of $n$.\n",
    "\n",
    "**Implementation detail:** With the subset of pairs $V$ from the previous step, we compute the products to get a perfect square in $\\mathbb{Z}$ and a perfect square in $\\mathbb{Z}[\\theta]$. We then compute the integer value of the algebraic perfect square using the mapping $\\phi: \\mathbb{Z}[\\theta] \\rightarrow \\mathbb{Z}/n\\mathbb{Z}$. This mapping satisfies $\\phi(\\theta) \\equiv m \\pmod n$. Thus, if $\\beta^2 = \\prod_{(a_j, b_j) \\in V} (a_j + b_j\\theta)$, then $\\phi(\\beta^2) = \\phi(\\beta)\\phi(\\beta)$ and $\\phi(\\beta^2) = \\phi(\\prod_{(a_j, b_j) \\in V} (a_j + b_j\\theta)) = \\prod_{(a_j, b_j) \\in V} (a_j + b_jm)$. This creates the congruence of squares $x^2 \\equiv y^2 \\pmod n$ that can be used for factorization with a high probability of success. For example, in the case of $n=45113$, this process led to the discovery of factors 197 and 229."
   ]
  },
  {
   "cell_type": "markdown",
   "id": "78ff8107-e192-4cc6-b691-85168dfdee09",
   "metadata": {},
   "source": [
    "#### Complexity"
   ]
  },
  {
   "cell_type": "markdown",
   "id": "898e7c96-234a-4dd2-93da-0a11d835cb72",
   "metadata": {},
   "source": [
    "Heuristically, its complexity for factoring an integer `n` (consisting of $\\lfloor\\log_2 n\\rfloor + 1$ bits) is of the form:"
   ]
  },
  {
   "cell_type": "markdown",
   "id": "6ebc6bc6-acc7-4848-aa02-c4f4a84ad43b",
   "metadata": {},
   "source": [
    "![alt text](GNFS_complexity.svg)"
   ]
  },
  {
   "cell_type": "markdown",
   "id": "9911c598-f2af-4414-a41d-e7e4e0564f3a",
   "metadata": {},
   "source": [
    "#### Code in python"
   ]
  },
  {
   "cell_type": "markdown",
   "id": "33c05aaf-b473-486d-aab8-a86e0cc605f7",
   "metadata": {},
   "source": [
    "**Disclaimer:**  \n",
    "This Python implementation of the General Number Field Sieve (GNFS) is designed for **educational purposes only**.  \n",
    "It is **not optimized for performance** and will run **very** slowly.  \n",
    "In practice, highly optimized GNFS implementations are written in **C or C++** with advanced sieving, memory management, and parallelization to handle real-world cryptographic-sized numbers efficiently."
   ]
  },
  {
   "cell_type": "code",
   "execution_count": 4,
   "id": "129180a7-5b58-4539-81c5-d15d4ec3cb7b",
   "metadata": {},
   "outputs": [],
   "source": [
    "# ------------------------\n",
    "# Step 1: Base-m polynomial selection\n",
    "# ------------------------\n",
    "def base_m_expansion(n, m):\n",
    "    \"\"\"Expand n in base m up to the given degree.\"\"\"\n",
    "    coeffs = []\n",
    "    temp = n\n",
    "    degree = 0\n",
    "    while temp // m**degree != 0:\n",
    "        degree += 1\n",
    "    for _ in range(degree + 1):\n",
    "        coeffs.append(temp % m)\n",
    "        temp //= m\n",
    "    return coeffs[::-1]  # highest-degree first\n",
    "\n",
    "def construct_polynomial_from_m(n, m):\n",
    "    \"\"\"Construct polynomial f(x) such that f(m) = n.\"\"\"\n",
    "    coeffs = base_m_expansion(n, m)\n",
    "    return coeffs\n",
    "\n",
    "def evaluate_polynomial(coeffs, x):\n",
    "    \"\"\"Evaluate polynomial at x.\"\"\"\n",
    "    result = 0\n",
    "    deg = len(coeffs) - 1\n",
    "    for i, c in enumerate(coeffs):\n",
    "        result += c * (x ** (deg - i))\n",
    "    return result\n",
    "\n",
    "def polynomial_function(coeffs):\n",
    "    \"\"\"Return a lambda function f(x) from coefficients.\"\"\"\n",
    "    return lambda x: evaluate_polynomial(coeffs, x)"
   ]
  },
  {
   "cell_type": "code",
   "execution_count": 5,
   "id": "c3d412f9-f234-450d-ab02-21daedc74c00",
   "metadata": {},
   "outputs": [],
   "source": [
    "# ------------------------\n",
    "# Step 2: Rational factor base R\n",
    "# ------------------------\n",
    "def rational_factor_base(bound):\n",
    "    return [p for p in range(2, bound+1) if isprime(p)]\n",
    "\n",
    "def factorize_over_base(x, base):\n",
    "    exponents = []\n",
    "    for p in base:\n",
    "        count = 0\n",
    "        while x % p == 0:\n",
    "            x //= p\n",
    "            count += 1\n",
    "        exponents.append(count)\n",
    "    return exponents, x  # remaining cofactor"
   ]
  },
  {
   "cell_type": "code",
   "execution_count": 6,
   "id": "4c50acc6-8a43-4ba0-a07b-bf14286b3639",
   "metadata": {},
   "outputs": [],
   "source": [
    "# ------------------------\n",
    "# Step 3: Algebraic factor base A\n",
    "# ------------------------\n",
    "def algebraic_factor_base(f, primes):\n",
    "    A = []\n",
    "    for p in primes:\n",
    "        for r in range(p):\n",
    "            if f(r) % p == 0:\n",
    "                A.append((r, p))\n",
    "    return A"
   ]
  },
  {
   "cell_type": "code",
   "execution_count": 7,
   "id": "be612394-4ecc-4903-8dc5-441f1a37d095",
   "metadata": {},
   "outputs": [],
   "source": [
    "# ------------------------\n",
    "# Step 4: Quadratic character base Q\n",
    "# ------------------------\n",
    "def quadratic_character_base(f, primes, exclude_A):\n",
    "    Q = []\n",
    "    for q in primes:\n",
    "        if q in exclude_A:\n",
    "            continue\n",
    "        for s in range(q):\n",
    "            if f(s) % q == 0:\n",
    "                Q.append((s, q))\n",
    "    return Q"
   ]
  },
  {
   "cell_type": "code",
   "execution_count": 8,
   "id": "52fb3358-0fc8-4ab2-ad72-a0bdd56bc3fc",
   "metadata": {},
   "outputs": [],
   "source": [
    "# ------------------------\n",
    "# Step 5: Find smooth pairs (a, b)\n",
    "# ------------------------\n",
    "def factorize_with_sieve(x, factor_base_primes, spf):\n",
    "    if x <= 1:\n",
    "        return [0] * len(factor_base_primes), 1\n",
    "        \n",
    "    exponents = [0] * len(factor_base_primes)\n",
    "    temp_x = x\n",
    "        \n",
    "    while temp_x > 1:\n",
    "        p = spf[temp_x]\n",
    "        try:\n",
    "            idx = factor_base_primes.index(p)\n",
    "            exponents[idx] += 1\n",
    "        except ValueError:\n",
    "            return [0] * len(factor_base_primes), temp_x  # Not smooth\n",
    "        temp_x //= p\n",
    "    return exponents, 1\n",
    "    \n",
    "def find_smooth_pairs(n, m, f, R, A, Q, a_limit=50, b_limit=3):\n",
    "    pairs = []\n",
    "    A_primes = [p for _, p in A]\n",
    "    \n",
    "    # Pre-compute primes for sieve\n",
    "    all_primes = sorted(list(set(R + A_primes)))\n",
    "    max_val_rational = b_limit * m + a_limit\n",
    "    max_val_algebraic = b_limit * f(m) + a_limit\n",
    "    max_val = max(max_val_rational, max_val_algebraic)\n",
    "    \n",
    "    # Sieve to find smallest prime factor for all numbers up to max_val\n",
    "    spf = list(range(max_val + 1))\n",
    "    for i in range(2, int(max_val**0.5) + 1):\n",
    "        if spf[i] == i:  # i is prime\n",
    "            for j in range(i * i, max_val + 1, i):\n",
    "                if spf[j] == j:\n",
    "                    spf[j] = i\n",
    "\n",
    "    R_dict = {p: i for i, p in enumerate(R)}\n",
    "    A_dict = {p: i for i, p in enumerate(A_primes)}\n",
    "    \n",
    "    for b in range(1, b_limit):\n",
    "        for a in range(-a_limit, a_limit):\n",
    "            val_r = a + b * m\n",
    "            val_a = a + b * f(m)\n",
    "            \n",
    "            rat_exp, rem_r = factorize_with_sieve(abs(val_r), R, spf)\n",
    "            if rem_r != 1:\n",
    "                continue\n",
    "\n",
    "            alg_exp, rem_a = factorize_with_sieve(abs(val_a), A_primes, spf)\n",
    "            if rem_a != 1:\n",
    "                continue\n",
    "            \n",
    "            quad_exp = [0 if legendre_symbol(a + b * s, q) == 1 else 1 for s, q in Q]\n",
    "            \n",
    "            pairs.append({\n",
    "                \"a\": a, \"b\": b,\n",
    "                \"rational\": rat_exp,\n",
    "                \"algebraic\": alg_exp,\n",
    "                \"quadratic\": quad_exp,\n",
    "                \"sign_r\": 0 if val_r >= 0 else 1,\n",
    "                \"sign_a\": 0 if val_a >= 0 else 1\n",
    "            })\n",
    "            \n",
    "    return pairs"
   ]
  },
  {
   "cell_type": "code",
   "execution_count": 9,
   "id": "e8b52f6a-b3c7-4bdc-8f5b-515796cbe011",
   "metadata": {},
   "outputs": [],
   "source": [
    "# ------------------------\n",
    "# Step 6: Construct matrix X\n",
    "# ------------------------\n",
    "def construct_matrix_X(pairs, R_len, A_len, Q_len):\n",
    "    matrix = []\n",
    "    for p in pairs:\n",
    "        row = [p[\"sign_r\"], p[\"sign_a\"]] + p[\"rational\"] + p[\"algebraic\"] + p[\"quadratic\"]\n",
    "        matrix.append([x % 2 for x in row])\n",
    "    return np.array(matrix, dtype=int)"
   ]
  },
  {
   "cell_type": "code",
   "execution_count": 10,
   "id": "76298484-7bf8-42a5-b3cc-84b2638a13c4",
   "metadata": {},
   "outputs": [],
   "source": [
    "# ------------------------\n",
    "# Step 7: Solve linear system modulo 2\n",
    "# ------------------------\n",
    "def solve_linear_system_mod2(X):\n",
    "    mat = X.copy()\n",
    "    rows, cols = mat.shape\n",
    "    pivot_rows = []\n",
    "    dependencies = []\n",
    "\n",
    "    for col in range(cols):\n",
    "        pivot_row = None\n",
    "        for r in range(rows):\n",
    "            if r in pivot_rows:\n",
    "                continue\n",
    "            if mat[r, col] == 1:\n",
    "                pivot_row = r\n",
    "                pivot_rows.append(r)\n",
    "                break\n",
    "        if pivot_row is None:\n",
    "            continue\n",
    "        for r in range(rows):\n",
    "            if r != pivot_row and mat[r, col] == 1:\n",
    "                mat[r] = (mat[r] + mat[pivot_row]) % 2\n",
    "\n",
    "    for i, row in enumerate(mat):\n",
    "        if not row.any():\n",
    "            dependencies.append(i)\n",
    "    return dependencies if dependencies else [0]"
   ]
  },
  {
   "cell_type": "code",
   "execution_count": 11,
   "id": "b918625f-c1f4-4db3-a6fa-07c7f069e01d",
   "metadata": {},
   "outputs": [],
   "source": [
    "# ------------------------\n",
    "# Step 8: Factor n using difference of squares\n",
    "# ------------------------\n",
    "def difference_of_squares_factor(n, s, r):\n",
    "    factor1 = gcd(s + r, n)\n",
    "    factor2 = gcd(s - r, n)\n",
    "    factors = [f for f in (factor1, factor2) if 1 < f < n]\n",
    "    return factors[0] if factors else None\n",
    "\n",
    "def factor_n_from_pairs(n, pairs, dependency, m, f):\n",
    "    x_prod = 1\n",
    "    y_prod = 1\n",
    "    for idx in dependency:\n",
    "        a = pairs[idx][\"a\"]\n",
    "        b = pairs[idx][\"b\"]\n",
    "        x_prod *= (a + b * m)\n",
    "        y_prod *= (a + b * f(m))\n",
    "    \n",
    "    x = abs(x_prod)\n",
    "    y = int(math.isqrt(abs(y_prod)))\n",
    "    \n",
    "    factor = difference_of_squares_factor(n, x, y)\n",
    "    return factor"
   ]
  },
  {
   "cell_type": "code",
   "execution_count": 12,
   "id": "9b559757-cdde-44da-8c50-debac2ff2f48",
   "metadata": {},
   "outputs": [],
   "source": [
    "def polynomial_to_string(coeffs):\n",
    "    \"\"\"Convert a list of coefficients into a polynomial string. Only for print purposes\"\"\"\n",
    "    degree = len(coeffs) - 1\n",
    "    terms = []\n",
    "    for i, c in enumerate(coeffs):\n",
    "        power = degree - i\n",
    "        if c == 0:\n",
    "            continue\n",
    "        if power == 0:\n",
    "            terms.append(f\"{c}\")\n",
    "        elif power == 1:\n",
    "            terms.append(f\"{c}*x\")\n",
    "        else:\n",
    "            terms.append(f\"{c}*x**{power}\")\n",
    "    return \" + \".join(terms)"
   ]
  },
  {
   "cell_type": "markdown",
   "id": "279ec60c-cf2f-4136-ac1c-da15178ca933",
   "metadata": {},
   "source": [
    "Here is all the functions you needed to construct the GNFS algorithm. Try to implement the full algorithm yourself."
   ]
  },
  {
   "cell_type": "code",
   "execution_count": 13,
   "id": "1bcc1062-cc43-4999-8aeb-3ebbfb187bb7",
   "metadata": {},
   "outputs": [],
   "source": [
    "def gnfs(n, m, R_bound=30, A_bound=90, Q_bound=107, a_limit=20, b_limit=3):\n",
    "    coeffs = construct_polynomial_from_m(n, m)\n",
    "    f = polynomial_function(coeffs)\n",
    "    print(f\"Polynomial f(x) = {polynomial_to_string(coeffs)}\")\n",
    "\n",
    "    R = rational_factor_base(R_bound)\n",
    "    print(f\"Rational factor base R: {R}\")\n",
    "    \n",
    "    A_primes = [p for p in range(2, A_bound) if isprime(p)]\n",
    "    A = algebraic_factor_base(f, A_primes)\n",
    "    print(f\"Algebraic factor base A: {A}\")\n",
    "    \n",
    "    Q_primes = [p for p in range(A_bound + 1, Q_bound + 1) if isprime(p)]\n",
    "    Q = quadratic_character_base(f, Q_primes, [p for _, p in A])\n",
    "    print(f\"Quadratic character base Q: {Q}\")\n",
    "    \n",
    "    pairs = find_smooth_pairs(n, m, f, R, A, Q, a_limit=a_limit, b_limit=b_limit)\n",
    "    print(f\"Found {len(pairs)} smooth pairs\")\n",
    "    \n",
    "    num_cols = len(R) + len(A) + len(Q) + 2\n",
    "    if len(pairs) < num_cols:\n",
    "        print(\"Not enough smooth pairs. Increase limits (a and b) or bounds (R, A, Q).\")\n",
    "        return None\n",
    "\n",
    "    X = construct_matrix_X(pairs, len(R), len(A), len(Q))\n",
    "    dependency = solve_linear_system_mod2(X)\n",
    "\n",
    "    if not dependency:\n",
    "      print(\"No non-trivial dependency found.\")\n",
    "      return None\n",
    "\n",
    "    factor = factor_n_from_pairs(n, pairs, dependency, m, f)\n",
    "    return factor"
   ]
  },
  {
   "cell_type": "code",
   "execution_count": 14,
   "id": "070df887-d066-40b5-b83e-637158ff1060",
   "metadata": {},
   "outputs": [],
   "source": [
    "def gnfs_no_print(n, m, R_bound=30, A_bound=90, Q_bound=107, a_limit=20, b_limit=3):\n",
    "    coeffs = construct_polynomial_from_m(n, m)\n",
    "    f = polynomial_function(coeffs)\n",
    "    R = rational_factor_base(R_bound)\n",
    "    A_primes = [p for p in range(2, A_bound) if isprime(p)]\n",
    "    A = algebraic_factor_base(f, A_primes)\n",
    "    Q_primes = [p for p in range(A_bound + 1, Q_bound + 1) if isprime(p)]\n",
    "    Q = quadratic_character_base(f, Q_primes, [p for _, p in A])\n",
    "    pairs = find_smooth_pairs(n, m, f, R, A, Q, a_limit=a_limit, b_limit=b_limit)\n",
    "    num_cols = len(R) + len(A) + len(Q) + 2\n",
    "    if len(pairs) < num_cols:\n",
    "        return None\n",
    "    X = construct_matrix_X(pairs, len(R), len(A), len(Q))\n",
    "    dependency = solve_linear_system_mod2(X)\n",
    "    if not dependency:\n",
    "      return None\n",
    "    factor = factor_n_from_pairs(n, pairs, dependency, m, f)\n",
    "    return factor"
   ]
  },
  {
   "cell_type": "markdown",
   "id": "39cee277-0916-4513-82cb-71784c3ade94",
   "metadata": {},
   "source": [
    "Let's run it on an example. (This example will work but if you want to try different values feel free but it might not work)"
   ]
  },
  {
   "cell_type": "code",
   "execution_count": 15,
   "id": "822a76fe-be8a-4479-a3b4-5ec63b29d470",
   "metadata": {},
   "outputs": [
    {
     "name": "stdout",
     "output_type": "stream",
     "text": [
      "Trying to factor 45113 with m=31...\n",
      "Polynomial f(x) = 1*x**3 + 15*x**2 + 29*x + 8\n",
      "Rational factor base R: [2, 3, 5, 7, 11, 13, 17, 19, 23, 29, 31, 37, 41, 43, 47, 53, 59, 61, 67, 71, 73]\n",
      "Algebraic factor base A: [(0, 2), (6, 7), (13, 17), (11, 23), (26, 29), (18, 31), (19, 41), (13, 43), (1, 53), (46, 61), (2, 67), (6, 67), (44, 67), (50, 73), (23, 79), (47, 79), (73, 79), (28, 89), (62, 89), (73, 89), (28, 97), (87, 101), (47, 103), (4, 107), (8, 107), (80, 107), (52, 109), (99, 109), (108, 113), (33, 139)]\n",
      "Quadratic character base Q: [(11, 151), (42, 151), (83, 151), (67, 157), (56, 163), (137, 167)]\n",
      "Found 556 smooth pairs\n",
      "Found the 2 factors : 197 and 229 in 11.219705820083618 seconds\n",
      "45113 = 197 * 229\n"
     ]
    }
   ],
   "source": [
    "n = 45113\n",
    "m = 31\n",
    "print(f\"Trying to factor {n} with m={m}...\")\n",
    "start_time = time.time()\n",
    "factor = gnfs(n, m, R_bound=75, A_bound=150, Q_bound=167, a_limit=770, b_limit=753)\n",
    "if factor:\n",
    "    end_time = time.time()\n",
    "    print(f\"Found the 2 factors : {factor} and {n // factor} in {end_time - start_time} seconds\")\n",
    "    print(f\"{n} = {factor} * {n // factor}\")\n",
    "else:\n",
    "    print(f\"Could not factor {n}\")\n",
    "    print(f\"Try increasing limits (a and b) or bounds (R, A, Q) or use different values of m\")"
   ]
  },
  {
   "cell_type": "markdown",
   "id": "da29a9ed-aa4d-4647-9208-2887601b04de",
   "metadata": {},
   "source": [
    "Here is a code to try to find good values for the bounds and limits :"
   ]
  },
  {
   "cell_type": "code",
   "execution_count": null,
   "id": "f36a99de-38da-44aa-a1a9-5de3ab85f275",
   "metadata": {},
   "outputs": [],
   "source": [
    "n = 229*991\n",
    "m = 5\n",
    "factor = False\n",
    "i = 0\n",
    "while not factor :\n",
    "    start_time = time.time()\n",
    "    factor = gnfs_no_print(n, m, R_bound=i, A_bound=2*i, Q_bound=2*i+17, a_limit=20+10*i, b_limit=3+10*i)\n",
    "    if factor:\n",
    "        end_time = time.time()\n",
    "        print(f\"Realised factorisation with i = {i}\")\n",
    "        print(f\"Found the 2 factors : {factor} and {n // factor} in {end_time - start_time} seconds\")\n",
    "        print(f\"{n} = {factor} * {n // factor}\")\n",
    "    else:\n",
    "        i += 1"
   ]
  },
  {
   "cell_type": "markdown",
   "id": "88fcdfeb-8e29-4e34-b697-17dd1c99f2d0",
   "metadata": {},
   "source": [
    "#### GNFS Cracking Time Estimates (Classical Resources)\n",
    "\n",
    "For reference, the following table estimates show how long it would take to factor RSA keys of different sizes. The times are extrapolated from data on previously factored, smaller numbers.\n",
    "\n",
    "| RSA key size (bits) | Approx. classical cost (core-years, GNFS-style) | 1 core | 100 cores | 1 k cores | 10 k cores | 1 M cores |\n",
    "|---------------------|-----------------------------------------------:|--------------:|----------:|----------:|-----------:|-----------:|\n",
    "| **512**             | ~10 core-years                                 | ~10 years     | ~36 days  | ~3.6 days | ~8.6 hours | ~5 minutes | \n",
    "| **768**             | ~600 core-years                                | ~600 years    | ~6 years  | ~2.2 years| ~7.9 months| ~5 days    | \n",
    "| **1024**            | ~30,000 core-years                             | ~30,000 years | ~300 years| ~30 years | ~3 years   | ~10 days   | \n",
    "| **2048**            | ~1×10⁹ core-years                              | ~1B years     | ~10M years| ~1M years | ~100k years| ~1,000 years| \n",
    "| **4096**            | ~10¹⁵ core-years                               | ~10¹⁵ years   | ~10¹³ years| ~10¹² years| ~10¹¹ years| ~10⁹ years |\n",
    "\n"
   ]
  },
  {
   "cell_type": "markdown",
   "id": "5808d5dc-f179-408e-ad10-09944f640d44",
   "metadata": {},
   "source": [
    "As we can see, classical computers have no hope of cracking RSA today. But what about the emerging world of quantum computing ? Could it succeed where classical machines fail?"
   ]
  },
  {
   "cell_type": "markdown",
   "id": "90935a90-33b3-41eb-b03a-7dbc252da6f7",
   "metadata": {},
   "source": [
    "## III) Discover Quantum Computers and Qiskit"
   ]
  },
  {
   "cell_type": "markdown",
   "id": "1459f287-7b2a-444d-9218-bf72766244c4",
   "metadata": {},
   "source": [
    "### Setup"
   ]
  },
  {
   "cell_type": "markdown",
   "id": "d8bbaba0-45a4-4bcd-b416-d9fb0b334d34",
   "metadata": {},
   "source": [
    "### First Algorithm (QRNG)"
   ]
  },
  {
   "cell_type": "markdown",
   "id": "5c793bb9-2db9-4b83-aec3-cb7a3ea85e67",
   "metadata": {},
   "source": [
    "## IV) Crack RSA with Quantum Computers"
   ]
  },
  {
   "cell_type": "markdown",
   "id": "29e9d4d9-510a-4f25-9ec9-6ad3bb1711e1",
   "metadata": {},
   "source": [
    "### History of the Shor Algorithm"
   ]
  },
  {
   "cell_type": "markdown",
   "id": "8895f52c-1752-4a2e-bf28-88cfce0a52e5",
   "metadata": {},
   "source": [
    "### Implement the Shor Algorithm"
   ]
  },
  {
   "cell_type": "markdown",
   "id": "6e36cc63-bcb6-46eb-8eac-c3f67d1211ab",
   "metadata": {},
   "source": [
    "### Test the Shor algorithm on RSA"
   ]
  },
  {
   "cell_type": "markdown",
   "id": "7bd28b26-de7d-404a-8dca-fe569b46cddf",
   "metadata": {},
   "source": [
    "## V) Is security of our data compromised ?"
   ]
  },
  {
   "cell_type": "markdown",
   "id": "a32c514b-a02a-47fd-85e2-2a9927bd6acb",
   "metadata": {},
   "source": [
    "### Quantum Computers are yet not powerful enough"
   ]
  },
  {
   "cell_type": "markdown",
   "id": "d59315e8-473e-4ba9-b171-84ebb2d6de42",
   "metadata": {},
   "source": [
    "### Classical methods Discrete Log Problem (Elliptic Curve) cannot be crack by quantum computers (yet)"
   ]
  },
  {
   "cell_type": "markdown",
   "id": "7893f131-98bc-4481-a582-715df24adce3",
   "metadata": {},
   "source": [
    "### Quantum Cryptography based on entanglement"
   ]
  }
 ],
 "metadata": {
  "kernelspec": {
   "display_name": "Python 3 (ipykernel)",
   "language": "python",
   "name": "python3"
  },
  "language_info": {
   "codemirror_mode": {
    "name": "ipython",
    "version": 3
   },
   "file_extension": ".py",
   "mimetype": "text/x-python",
   "name": "python",
   "nbconvert_exporter": "python",
   "pygments_lexer": "ipython3",
   "version": "3.13.7"
  }
 },
 "nbformat": 4,
 "nbformat_minor": 5
}
